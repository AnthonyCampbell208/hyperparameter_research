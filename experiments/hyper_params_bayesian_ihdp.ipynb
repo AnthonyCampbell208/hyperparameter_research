{
 "cells": [
  {
   "cell_type": "code",
   "execution_count": 2,
   "metadata": {},
   "outputs": [],
   "source": [
    "import numpy as np\n",
    "from sklearn.linear_model import LogisticRegressionCV\n",
    "from sklearn.ensemble import RandomForestClassifier, GradientBoostingClassifier\n",
    "from sklearn.neural_network import MLPClassifier\n",
    "from sklearn.model_selection import cross_val_score\n",
    "from sklearn.metrics import mean_squared_error\n",
    "from bayes_opt import BayesianOptimization\n",
    "from sklearn.linear_model import LinearRegression\n",
    "from utils import *\n",
    "from hyper_params_bayesian import *"
   ]
  },
  {
   "cell_type": "code",
   "execution_count": 3,
   "metadata": {},
   "outputs": [],
   "source": [
    "#Load the ihdp dataset\n",
    "data, X, T, Y, true_ITE, true_ATE, true_ATE_stderr, is_discrete = load_ihdp()\n",
    "scaler = StandardScaler()\n",
    "X_Scaled = scaler.fit_transform(X)"
   ]
  },
  {
   "cell_type": "code",
   "execution_count": 5,
   "metadata": {},
   "outputs": [
    {
     "name": "stdout",
     "output_type": "stream",
     "text": [
      "|   iter    |  target   | max_depth | min_sa... | min_sa... | n_esti... |\n",
      "-------------------------------------------------------------------------\n",
      "| \u001b[0m1        \u001b[0m | \u001b[0m0.3767   \u001b[0m | \u001b[0m10.62    \u001b[0m | \u001b[0m1.951    \u001b[0m | \u001b[0m4.196    \u001b[0m | \u001b[0m69.9     \u001b[0m |\n",
      "| \u001b[0m2        \u001b[0m | \u001b[0m0.3579   \u001b[0m | \u001b[0m7.34     \u001b[0m | \u001b[0m1.156    \u001b[0m | \u001b[0m2.174    \u001b[0m | \u001b[0m89.96    \u001b[0m |\n",
      "| \u001b[0m3        \u001b[0m | \u001b[0m0.37     \u001b[0m | \u001b[0m14.02    \u001b[0m | \u001b[0m1.708    \u001b[0m | \u001b[0m2.062    \u001b[0m | \u001b[0m97.74    \u001b[0m |\n",
      "| \u001b[0m4        \u001b[0m | \u001b[0m0.3619   \u001b[0m | \u001b[0m17.49    \u001b[0m | \u001b[0m1.212    \u001b[0m | \u001b[0m2.545    \u001b[0m | \u001b[0m38.76    \u001b[0m |\n",
      "| \u001b[0m5        \u001b[0m | \u001b[0m0.3606   \u001b[0m | \u001b[0m9.564    \u001b[0m | \u001b[0m1.525    \u001b[0m | \u001b[0m3.296    \u001b[0m | \u001b[0m46.84    \u001b[0m |\n",
      "| \u001b[0m6        \u001b[0m | \u001b[0m0.3646   \u001b[0m | \u001b[0m10.8     \u001b[0m | \u001b[0m1.885    \u001b[0m | \u001b[0m4.561    \u001b[0m | \u001b[0m69.91    \u001b[0m |\n",
      "| \u001b[0m7        \u001b[0m | \u001b[0m0.323    \u001b[0m | \u001b[0m5.738    \u001b[0m | \u001b[0m1.018    \u001b[0m | \u001b[0m3.802    \u001b[0m | \u001b[0m79.29    \u001b[0m |\n",
      "| \u001b[0m8        \u001b[0m | \u001b[0m0.3686   \u001b[0m | \u001b[0m10.43    \u001b[0m | \u001b[0m1.414    \u001b[0m | \u001b[0m3.759    \u001b[0m | \u001b[0m70.22    \u001b[0m |\n",
      "| \u001b[0m9        \u001b[0m | \u001b[0m0.3458   \u001b[0m | \u001b[0m10.31    \u001b[0m | \u001b[0m2.0      \u001b[0m | \u001b[0m3.68     \u001b[0m | \u001b[0m69.33    \u001b[0m |\n",
      "| \u001b[0m10       \u001b[0m | \u001b[0m0.3565   \u001b[0m | \u001b[0m10.45    \u001b[0m | \u001b[0m1.437    \u001b[0m | \u001b[0m3.92     \u001b[0m | \u001b[0m70.26    \u001b[0m |\n",
      "| \u001b[0m11       \u001b[0m | \u001b[0m0.3646   \u001b[0m | \u001b[0m19.07    \u001b[0m | \u001b[0m1.706    \u001b[0m | \u001b[0m3.35     \u001b[0m | \u001b[0m99.89    \u001b[0m |\n",
      "| \u001b[0m12       \u001b[0m | \u001b[0m0.3659   \u001b[0m | \u001b[0m16.63    \u001b[0m | \u001b[0m1.882    \u001b[0m | \u001b[0m2.682    \u001b[0m | \u001b[0m52.93    \u001b[0m |\n",
      "| \u001b[0m13       \u001b[0m | \u001b[0m0.3632   \u001b[0m | \u001b[0m7.904    \u001b[0m | \u001b[0m1.621    \u001b[0m | \u001b[0m2.745    \u001b[0m | \u001b[0m82.58    \u001b[0m |\n",
      "| \u001b[0m14       \u001b[0m | \u001b[0m0.3498   \u001b[0m | \u001b[0m5.095    \u001b[0m | \u001b[0m1.459    \u001b[0m | \u001b[0m4.93     \u001b[0m | \u001b[0m64.51    \u001b[0m |\n",
      "| \u001b[0m15       \u001b[0m | \u001b[0m0.3552   \u001b[0m | \u001b[0m16.14    \u001b[0m | \u001b[0m1.525    \u001b[0m | \u001b[0m2.901    \u001b[0m | \u001b[0m26.48    \u001b[0m |\n",
      "=========================================================================\n",
      "Best Hyperparameters for Random Forest Classifier:\n",
      "n_estimators: 69.89938631477774\n",
      "max_depth: 10.618101782710436\n",
      "|   iter    |  target   | learni... | max_depth | n_esti... |\n",
      "-------------------------------------------------------------\n",
      "| \u001b[0m1        \u001b[0m | \u001b[0m0.4021   \u001b[0m | \u001b[0m0.04371  \u001b[0m | \u001b[0m6.803    \u001b[0m | \u001b[0m392.8    \u001b[0m |\n",
      "| \u001b[95m2        \u001b[0m | \u001b[95m0.4317   \u001b[0m | \u001b[95m0.06388  \u001b[0m | \u001b[95m3.624    \u001b[0m | \u001b[95m162.4    \u001b[0m |\n",
      "| \u001b[0m3        \u001b[0m | \u001b[0m0.3995   \u001b[0m | \u001b[0m0.01523  \u001b[0m | \u001b[0m6.465    \u001b[0m | \u001b[0m340.4    \u001b[0m |\n",
      "| \u001b[0m4        \u001b[0m | \u001b[0m0.4061   \u001b[0m | \u001b[0m0.07373  \u001b[0m | \u001b[0m3.082    \u001b[0m | \u001b[0m488.0    \u001b[0m |\n",
      "| \u001b[0m5        \u001b[0m | \u001b[0m0.4223   \u001b[0m | \u001b[0m0.08492  \u001b[0m | \u001b[0m3.849    \u001b[0m | \u001b[0m172.7    \u001b[0m |\n",
      "| \u001b[0m6        \u001b[0m | \u001b[0m0.3994   \u001b[0m | \u001b[0m0.06534  \u001b[0m | \u001b[0m6.909    \u001b[0m | \u001b[0m144.5    \u001b[0m |\n",
      "| \u001b[95m7        \u001b[0m | \u001b[95m0.4343   \u001b[0m | \u001b[95m0.09078  \u001b[0m | \u001b[95m3.383    \u001b[0m | \u001b[95m161.5    \u001b[0m |\n",
      "| \u001b[0m8        \u001b[0m | \u001b[0m0.3793   \u001b[0m | \u001b[0m0.01     \u001b[0m | \u001b[0m7.0      \u001b[0m | \u001b[0m157.6    \u001b[0m |\n",
      "| \u001b[0m9        \u001b[0m | \u001b[0m0.433    \u001b[0m | \u001b[0m0.09067  \u001b[0m | \u001b[0m3.649    \u001b[0m | \u001b[0m169.1    \u001b[0m |\n",
      "| \u001b[0m10       \u001b[0m | \u001b[0m0.4276   \u001b[0m | \u001b[0m0.08162  \u001b[0m | \u001b[0m6.474    \u001b[0m | \u001b[0m167.9    \u001b[0m |\n",
      "| \u001b[0m11       \u001b[0m | \u001b[0m0.4317   \u001b[0m | \u001b[0m0.02943  \u001b[0m | \u001b[0m3.021    \u001b[0m | \u001b[0m166.2    \u001b[0m |\n",
      "| \u001b[0m12       \u001b[0m | \u001b[0m0.4303   \u001b[0m | \u001b[0m0.05035  \u001b[0m | \u001b[0m6.876    \u001b[0m | \u001b[0m183.1    \u001b[0m |\n",
      "| \u001b[95m13       \u001b[0m | \u001b[95m0.4357   \u001b[0m | \u001b[95m0.08222  \u001b[0m | \u001b[95m4.877    \u001b[0m | \u001b[95m187.9    \u001b[0m |\n",
      "| \u001b[0m14       \u001b[0m | \u001b[0m0.433    \u001b[0m | \u001b[0m0.08693  \u001b[0m | \u001b[0m6.645    \u001b[0m | \u001b[0m192.6    \u001b[0m |\n",
      "| \u001b[95m15       \u001b[0m | \u001b[95m0.437    \u001b[0m | \u001b[95m0.06997  \u001b[0m | \u001b[95m3.015    \u001b[0m | \u001b[95m197.6    \u001b[0m |\n",
      "=============================================================\n",
      "Best Hyperparameters for Gradient Boosting Classifier:\n",
      "n_estimators: 197.59267223277413\n",
      "learning_rate: 0.06996828280263488\n",
      "max_depth: 3.0148777758454233\n",
      "|   iter    |  target   |   alpha   | hidden... | max_iter  |\n",
      "-------------------------------------------------------------\n"
     ]
    },
    {
     "name": "stderr",
     "output_type": "stream",
     "text": [
      "Stochastic Optimizer: Maximum iterations (74) reached and the optimization hasn't converged yet.\n",
      "Stochastic Optimizer: Maximum iterations (74) reached and the optimization hasn't converged yet.\n",
      "Stochastic Optimizer: Maximum iterations (74) reached and the optimization hasn't converged yet.\n",
      "Stochastic Optimizer: Maximum iterations (74) reached and the optimization hasn't converged yet.\n",
      "Stochastic Optimizer: Maximum iterations (74) reached and the optimization hasn't converged yet.\n",
      "Stochastic Optimizer: Maximum iterations (74) reached and the optimization hasn't converged yet.\n",
      "Stochastic Optimizer: Maximum iterations (74) reached and the optimization hasn't converged yet.\n",
      "Stochastic Optimizer: Maximum iterations (74) reached and the optimization hasn't converged yet.\n",
      "Stochastic Optimizer: Maximum iterations (74) reached and the optimization hasn't converged yet.\n",
      "Stochastic Optimizer: Maximum iterations (74) reached and the optimization hasn't converged yet.\n",
      "Stochastic Optimizer: Maximum iterations (19) reached and the optimization hasn't converged yet.\n",
      "Stochastic Optimizer: Maximum iterations (19) reached and the optimization hasn't converged yet.\n",
      "Stochastic Optimizer: Maximum iterations (19) reached and the optimization hasn't converged yet.\n",
      "Stochastic Optimizer: Maximum iterations (19) reached and the optimization hasn't converged yet.\n"
     ]
    },
    {
     "name": "stdout",
     "output_type": "stream",
     "text": [
      "| \u001b[0m1        \u001b[0m | \u001b[0m0.2827   \u001b[0m | \u001b[0m0.003808 \u001b[0m | \u001b[0m95.56    \u001b[0m | \u001b[0m74.54    \u001b[0m |\n"
     ]
    },
    {
     "name": "stderr",
     "output_type": "stream",
     "text": [
      "Stochastic Optimizer: Maximum iterations (19) reached and the optimization hasn't converged yet.\n",
      "Stochastic Optimizer: Maximum iterations (19) reached and the optimization hasn't converged yet.\n",
      "Stochastic Optimizer: Maximum iterations (19) reached and the optimization hasn't converged yet.\n",
      "Stochastic Optimizer: Maximum iterations (19) reached and the optimization hasn't converged yet.\n",
      "Stochastic Optimizer: Maximum iterations (19) reached and the optimization hasn't converged yet.\n",
      "Stochastic Optimizer: Maximum iterations (19) reached and the optimization hasn't converged yet.\n"
     ]
    },
    {
     "name": "stdout",
     "output_type": "stream",
     "text": [
      "| \u001b[0m2        \u001b[0m | \u001b[0m0.2021   \u001b[0m | \u001b[0m0.006027 \u001b[0m | \u001b[0m24.04    \u001b[0m | \u001b[0m19.82    \u001b[0m |\n"
     ]
    },
    {
     "name": "stderr",
     "output_type": "stream",
     "text": [
      "Stochastic Optimizer: Maximum iterations (62) reached and the optimization hasn't converged yet.\n",
      "Stochastic Optimizer: Maximum iterations (62) reached and the optimization hasn't converged yet.\n",
      "Stochastic Optimizer: Maximum iterations (62) reached and the optimization hasn't converged yet.\n",
      "Stochastic Optimizer: Maximum iterations (62) reached and the optimization hasn't converged yet.\n",
      "Stochastic Optimizer: Maximum iterations (62) reached and the optimization hasn't converged yet.\n",
      "Stochastic Optimizer: Maximum iterations (62) reached and the optimization hasn't converged yet.\n",
      "Stochastic Optimizer: Maximum iterations (62) reached and the optimization hasn't converged yet.\n",
      "Stochastic Optimizer: Maximum iterations (62) reached and the optimization hasn't converged yet.\n",
      "Stochastic Optimizer: Maximum iterations (62) reached and the optimization hasn't converged yet.\n",
      "Stochastic Optimizer: Maximum iterations (62) reached and the optimization hasn't converged yet.\n"
     ]
    },
    {
     "name": "stdout",
     "output_type": "stream",
     "text": [
      "| \u001b[0m3        \u001b[0m | \u001b[0m0.2653   \u001b[0m | \u001b[0m0.000675 \u001b[0m | \u001b[0m87.96    \u001b[0m | \u001b[0m62.11    \u001b[0m |\n"
     ]
    },
    {
     "name": "stderr",
     "output_type": "stream",
     "text": [
      "Stochastic Optimizer: Maximum iterations (97) reached and the optimization hasn't converged yet.\n",
      "Stochastic Optimizer: Maximum iterations (97) reached and the optimization hasn't converged yet.\n",
      "Stochastic Optimizer: Maximum iterations (97) reached and the optimization hasn't converged yet.\n",
      "Stochastic Optimizer: Maximum iterations (97) reached and the optimization hasn't converged yet.\n",
      "Stochastic Optimizer: Maximum iterations (97) reached and the optimization hasn't converged yet.\n",
      "Stochastic Optimizer: Maximum iterations (97) reached and the optimization hasn't converged yet.\n",
      "Stochastic Optimizer: Maximum iterations (97) reached and the optimization hasn't converged yet.\n",
      "Stochastic Optimizer: Maximum iterations (97) reached and the optimization hasn't converged yet.\n",
      "Stochastic Optimizer: Maximum iterations (97) reached and the optimization hasn't converged yet.\n",
      "Stochastic Optimizer: Maximum iterations (97) reached and the optimization hasn't converged yet.\n",
      "Stochastic Optimizer: Maximum iterations (22) reached and the optimization hasn't converged yet.\n",
      "Stochastic Optimizer: Maximum iterations (22) reached and the optimization hasn't converged yet.\n",
      "Stochastic Optimizer: Maximum iterations (22) reached and the optimization hasn't converged yet.\n"
     ]
    },
    {
     "name": "stdout",
     "output_type": "stream",
     "text": [
      "| \u001b[0m4        \u001b[0m | \u001b[0m0.2129   \u001b[0m | \u001b[0m0.00711  \u001b[0m | \u001b[0m11.85    \u001b[0m | \u001b[0m97.14    \u001b[0m |\n"
     ]
    },
    {
     "name": "stderr",
     "output_type": "stream",
     "text": [
      "Stochastic Optimizer: Maximum iterations (22) reached and the optimization hasn't converged yet.\n",
      "Stochastic Optimizer: Maximum iterations (22) reached and the optimization hasn't converged yet.\n",
      "Stochastic Optimizer: Maximum iterations (22) reached and the optimization hasn't converged yet.\n",
      "Stochastic Optimizer: Maximum iterations (22) reached and the optimization hasn't converged yet.\n",
      "Stochastic Optimizer: Maximum iterations (22) reached and the optimization hasn't converged yet.\n",
      "Stochastic Optimizer: Maximum iterations (22) reached and the optimization hasn't converged yet.\n",
      "Stochastic Optimizer: Maximum iterations (22) reached and the optimization hasn't converged yet.\n"
     ]
    },
    {
     "name": "stdout",
     "output_type": "stream",
     "text": [
      "| \u001b[0m5        \u001b[0m | \u001b[0m0.1914   \u001b[0m | \u001b[0m0.008341 \u001b[0m | \u001b[0m29.11    \u001b[0m | \u001b[0m22.27    \u001b[0m |\n"
     ]
    },
    {
     "name": "stderr",
     "output_type": "stream",
     "text": [
      "Stochastic Optimizer: Maximum iterations (100) reached and the optimization hasn't converged yet.\n",
      "Stochastic Optimizer: Maximum iterations (100) reached and the optimization hasn't converged yet.\n",
      "Stochastic Optimizer: Maximum iterations (100) reached and the optimization hasn't converged yet.\n",
      "Stochastic Optimizer: Maximum iterations (100) reached and the optimization hasn't converged yet.\n",
      "Stochastic Optimizer: Maximum iterations (100) reached and the optimization hasn't converged yet.\n",
      "Stochastic Optimizer: Maximum iterations (100) reached and the optimization hasn't converged yet.\n",
      "Stochastic Optimizer: Maximum iterations (100) reached and the optimization hasn't converged yet.\n",
      "Stochastic Optimizer: Maximum iterations (100) reached and the optimization hasn't converged yet.\n",
      "Stochastic Optimizer: Maximum iterations (100) reached and the optimization hasn't converged yet.\n",
      "Stochastic Optimizer: Maximum iterations (100) reached and the optimization hasn't converged yet.\n"
     ]
    },
    {
     "name": "stdout",
     "output_type": "stream",
     "text": [
      "| \u001b[95m6        \u001b[0m | \u001b[95m0.3377   \u001b[0m | \u001b[95m0.0001   \u001b[0m | \u001b[95m83.88    \u001b[0m | \u001b[95m100.0    \u001b[0m |\n"
     ]
    },
    {
     "name": "stderr",
     "output_type": "stream",
     "text": [
      "Stochastic Optimizer: Maximum iterations (100) reached and the optimization hasn't converged yet.\n",
      "Stochastic Optimizer: Maximum iterations (100) reached and the optimization hasn't converged yet.\n",
      "Stochastic Optimizer: Maximum iterations (100) reached and the optimization hasn't converged yet.\n",
      "Stochastic Optimizer: Maximum iterations (100) reached and the optimization hasn't converged yet.\n",
      "Stochastic Optimizer: Maximum iterations (100) reached and the optimization hasn't converged yet.\n",
      "Stochastic Optimizer: Maximum iterations (100) reached and the optimization hasn't converged yet.\n",
      "Stochastic Optimizer: Maximum iterations (100) reached and the optimization hasn't converged yet.\n",
      "Stochastic Optimizer: Maximum iterations (100) reached and the optimization hasn't converged yet.\n",
      "Stochastic Optimizer: Maximum iterations (100) reached and the optimization hasn't converged yet.\n",
      "Stochastic Optimizer: Maximum iterations (100) reached and the optimization hasn't converged yet.\n"
     ]
    },
    {
     "name": "stdout",
     "output_type": "stream",
     "text": [
      "| \u001b[0m7        \u001b[0m | \u001b[0m0.3122   \u001b[0m | \u001b[0m0.01     \u001b[0m | \u001b[0m62.25    \u001b[0m | \u001b[0m100.0    \u001b[0m |\n"
     ]
    },
    {
     "name": "stderr",
     "output_type": "stream",
     "text": [
      "Stochastic Optimizer: Maximum iterations (100) reached and the optimization hasn't converged yet.\n",
      "Stochastic Optimizer: Maximum iterations (100) reached and the optimization hasn't converged yet.\n",
      "Stochastic Optimizer: Maximum iterations (100) reached and the optimization hasn't converged yet.\n",
      "Stochastic Optimizer: Maximum iterations (100) reached and the optimization hasn't converged yet.\n",
      "Stochastic Optimizer: Maximum iterations (100) reached and the optimization hasn't converged yet.\n",
      "Stochastic Optimizer: Maximum iterations (100) reached and the optimization hasn't converged yet.\n",
      "Stochastic Optimizer: Maximum iterations (100) reached and the optimization hasn't converged yet.\n",
      "Stochastic Optimizer: Maximum iterations (100) reached and the optimization hasn't converged yet.\n",
      "Stochastic Optimizer: Maximum iterations (100) reached and the optimization hasn't converged yet.\n",
      "Stochastic Optimizer: Maximum iterations (100) reached and the optimization hasn't converged yet.\n"
     ]
    },
    {
     "name": "stdout",
     "output_type": "stream",
     "text": [
      "| \u001b[95m8        \u001b[0m | \u001b[95m0.3565   \u001b[0m | \u001b[95m0.01     \u001b[0m | \u001b[95m100.0    \u001b[0m | \u001b[95m100.0    \u001b[0m |\n"
     ]
    },
    {
     "name": "stderr",
     "output_type": "stream",
     "text": [
      "Stochastic Optimizer: Maximum iterations (5) reached and the optimization hasn't converged yet.\n",
      "Stochastic Optimizer: Maximum iterations (5) reached and the optimization hasn't converged yet.\n",
      "Stochastic Optimizer: Maximum iterations (5) reached and the optimization hasn't converged yet.\n",
      "Stochastic Optimizer: Maximum iterations (5) reached and the optimization hasn't converged yet.\n",
      "Stochastic Optimizer: Maximum iterations (5) reached and the optimization hasn't converged yet.\n",
      "Stochastic Optimizer: Maximum iterations (5) reached and the optimization hasn't converged yet.\n",
      "Stochastic Optimizer: Maximum iterations (5) reached and the optimization hasn't converged yet.\n",
      "Stochastic Optimizer: Maximum iterations (5) reached and the optimization hasn't converged yet.\n",
      "Stochastic Optimizer: Maximum iterations (5) reached and the optimization hasn't converged yet.\n",
      "Stochastic Optimizer: Maximum iterations (5) reached and the optimization hasn't converged yet.\n"
     ]
    },
    {
     "name": "stdout",
     "output_type": "stream",
     "text": [
      "| \u001b[0m9        \u001b[0m | \u001b[0m0.1888   \u001b[0m | \u001b[0m0.0001   \u001b[0m | \u001b[0m100.0    \u001b[0m | \u001b[0m5.0      \u001b[0m |\n"
     ]
    },
    {
     "name": "stderr",
     "output_type": "stream",
     "text": [
      "Stochastic Optimizer: Maximum iterations (99) reached and the optimization hasn't converged yet.\n",
      "Stochastic Optimizer: Maximum iterations (99) reached and the optimization hasn't converged yet.\n",
      "Stochastic Optimizer: Maximum iterations (99) reached and the optimization hasn't converged yet.\n",
      "Stochastic Optimizer: Maximum iterations (99) reached and the optimization hasn't converged yet.\n",
      "Stochastic Optimizer: Maximum iterations (99) reached and the optimization hasn't converged yet.\n",
      "Stochastic Optimizer: Maximum iterations (99) reached and the optimization hasn't converged yet.\n",
      "Stochastic Optimizer: Maximum iterations (99) reached and the optimization hasn't converged yet.\n",
      "Stochastic Optimizer: Maximum iterations (99) reached and the optimization hasn't converged yet.\n",
      "Stochastic Optimizer: Maximum iterations (99) reached and the optimization hasn't converged yet.\n",
      "Stochastic Optimizer: Maximum iterations (99) reached and the optimization hasn't converged yet.\n"
     ]
    },
    {
     "name": "stdout",
     "output_type": "stream",
     "text": [
      "| \u001b[0m10       \u001b[0m | \u001b[0m0.3511   \u001b[0m | \u001b[0m0.008209 \u001b[0m | \u001b[0m96.01    \u001b[0m | \u001b[0m99.9     \u001b[0m |\n"
     ]
    },
    {
     "name": "stderr",
     "output_type": "stream",
     "text": [
      "Stochastic Optimizer: Maximum iterations (100) reached and the optimization hasn't converged yet.\n",
      "Stochastic Optimizer: Maximum iterations (100) reached and the optimization hasn't converged yet.\n",
      "Stochastic Optimizer: Maximum iterations (100) reached and the optimization hasn't converged yet.\n",
      "Stochastic Optimizer: Maximum iterations (100) reached and the optimization hasn't converged yet.\n",
      "Stochastic Optimizer: Maximum iterations (100) reached and the optimization hasn't converged yet.\n",
      "Stochastic Optimizer: Maximum iterations (100) reached and the optimization hasn't converged yet.\n",
      "Stochastic Optimizer: Maximum iterations (100) reached and the optimization hasn't converged yet.\n",
      "Stochastic Optimizer: Maximum iterations (100) reached and the optimization hasn't converged yet.\n",
      "Stochastic Optimizer: Maximum iterations (100) reached and the optimization hasn't converged yet.\n",
      "Stochastic Optimizer: Maximum iterations (100) reached and the optimization hasn't converged yet.\n"
     ]
    },
    {
     "name": "stdout",
     "output_type": "stream",
     "text": [
      "| \u001b[95m11       \u001b[0m | \u001b[95m0.3673   \u001b[0m | \u001b[95m0.0001   \u001b[0m | \u001b[95m100.0    \u001b[0m | \u001b[95m100.0    \u001b[0m |\n"
     ]
    },
    {
     "name": "stderr",
     "output_type": "stream",
     "text": [
      "Stochastic Optimizer: Maximum iterations (99) reached and the optimization hasn't converged yet.\n",
      "Stochastic Optimizer: Maximum iterations (99) reached and the optimization hasn't converged yet.\n",
      "Stochastic Optimizer: Maximum iterations (99) reached and the optimization hasn't converged yet.\n",
      "Stochastic Optimizer: Maximum iterations (99) reached and the optimization hasn't converged yet.\n",
      "Stochastic Optimizer: Maximum iterations (99) reached and the optimization hasn't converged yet.\n",
      "Stochastic Optimizer: Maximum iterations (99) reached and the optimization hasn't converged yet.\n",
      "Stochastic Optimizer: Maximum iterations (99) reached and the optimization hasn't converged yet.\n",
      "Stochastic Optimizer: Maximum iterations (99) reached and the optimization hasn't converged yet.\n",
      "Stochastic Optimizer: Maximum iterations (99) reached and the optimization hasn't converged yet.\n",
      "Stochastic Optimizer: Maximum iterations (99) reached and the optimization hasn't converged yet.\n"
     ]
    },
    {
     "name": "stdout",
     "output_type": "stream",
     "text": [
      "| \u001b[0m12       \u001b[0m | \u001b[0m0.3606   \u001b[0m | \u001b[0m0.006034 \u001b[0m | \u001b[0m96.33    \u001b[0m | \u001b[0m99.89    \u001b[0m |\n"
     ]
    },
    {
     "name": "stderr",
     "output_type": "stream",
     "text": [
      "Stochastic Optimizer: Maximum iterations (99) reached and the optimization hasn't converged yet.\n",
      "Stochastic Optimizer: Maximum iterations (99) reached and the optimization hasn't converged yet.\n",
      "Stochastic Optimizer: Maximum iterations (99) reached and the optimization hasn't converged yet.\n",
      "Stochastic Optimizer: Maximum iterations (99) reached and the optimization hasn't converged yet.\n",
      "Stochastic Optimizer: Maximum iterations (99) reached and the optimization hasn't converged yet.\n",
      "Stochastic Optimizer: Maximum iterations (99) reached and the optimization hasn't converged yet.\n",
      "Stochastic Optimizer: Maximum iterations (99) reached and the optimization hasn't converged yet.\n",
      "Stochastic Optimizer: Maximum iterations (99) reached and the optimization hasn't converged yet.\n",
      "Stochastic Optimizer: Maximum iterations (99) reached and the optimization hasn't converged yet.\n",
      "Stochastic Optimizer: Maximum iterations (99) reached and the optimization hasn't converged yet.\n"
     ]
    },
    {
     "name": "stdout",
     "output_type": "stream",
     "text": [
      "| \u001b[95m13       \u001b[0m | \u001b[95m0.3713   \u001b[0m | \u001b[95m0.006574 \u001b[0m | \u001b[95m99.96    \u001b[0m | \u001b[95m99.84    \u001b[0m |\n"
     ]
    },
    {
     "name": "stderr",
     "output_type": "stream",
     "text": [
      "Stochastic Optimizer: Maximum iterations (99) reached and the optimization hasn't converged yet.\n",
      "Stochastic Optimizer: Maximum iterations (99) reached and the optimization hasn't converged yet.\n",
      "Stochastic Optimizer: Maximum iterations (99) reached and the optimization hasn't converged yet.\n",
      "Stochastic Optimizer: Maximum iterations (99) reached and the optimization hasn't converged yet.\n",
      "Stochastic Optimizer: Maximum iterations (99) reached and the optimization hasn't converged yet.\n",
      "Stochastic Optimizer: Maximum iterations (99) reached and the optimization hasn't converged yet.\n",
      "Stochastic Optimizer: Maximum iterations (99) reached and the optimization hasn't converged yet.\n",
      "Stochastic Optimizer: Maximum iterations (99) reached and the optimization hasn't converged yet.\n",
      "Stochastic Optimizer: Maximum iterations (99) reached and the optimization hasn't converged yet.\n",
      "Stochastic Optimizer: Maximum iterations (99) reached and the optimization hasn't converged yet.\n"
     ]
    },
    {
     "name": "stdout",
     "output_type": "stream",
     "text": [
      "| \u001b[95m14       \u001b[0m | \u001b[95m0.374    \u001b[0m | \u001b[95m0.009913 \u001b[0m | \u001b[95m96.73    \u001b[0m | \u001b[95m99.79    \u001b[0m |\n"
     ]
    },
    {
     "name": "stderr",
     "output_type": "stream",
     "text": [
      "Stochastic Optimizer: Maximum iterations (99) reached and the optimization hasn't converged yet.\n",
      "Stochastic Optimizer: Maximum iterations (99) reached and the optimization hasn't converged yet.\n",
      "Stochastic Optimizer: Maximum iterations (99) reached and the optimization hasn't converged yet.\n",
      "Stochastic Optimizer: Maximum iterations (99) reached and the optimization hasn't converged yet.\n",
      "Stochastic Optimizer: Maximum iterations (99) reached and the optimization hasn't converged yet.\n",
      "Stochastic Optimizer: Maximum iterations (99) reached and the optimization hasn't converged yet.\n",
      "Stochastic Optimizer: Maximum iterations (99) reached and the optimization hasn't converged yet.\n",
      "Stochastic Optimizer: Maximum iterations (99) reached and the optimization hasn't converged yet.\n",
      "Stochastic Optimizer: Maximum iterations (99) reached and the optimization hasn't converged yet.\n"
     ]
    },
    {
     "name": "stdout",
     "output_type": "stream",
     "text": [
      "| \u001b[95m15       \u001b[0m | \u001b[95m0.3887   \u001b[0m | \u001b[95m0.004657 \u001b[0m | \u001b[95m99.8     \u001b[0m | \u001b[95m99.9     \u001b[0m |\n",
      "=============================================================\n",
      "Best Hyperparameters for Neural Net classifier:\n",
      "hidden_layer_sizes: 99.79828674597545\n",
      "alpha: 0.004656594530227389\n",
      "max_iter: 99.90189101613396\n"
     ]
    },
    {
     "name": "stderr",
     "output_type": "stream",
     "text": [
      "Stochastic Optimizer: Maximum iterations (99) reached and the optimization hasn't converged yet.\n"
     ]
    },
    {
     "data": {
      "text/plain": [
       "({'max_depth': 10.618101782710436,\n",
       "  'min_samples_leaf': 1.9507143064099162,\n",
       "  'min_samples_split': 4.195981825434215,\n",
       "  'n_estimators': 69.89938631477774},\n",
       " {'learning_rate': 0.06996828280263488,\n",
       "  'max_depth': 3.0148777758454233,\n",
       "  'n_estimators': 197.59267223277413},\n",
       " {'alpha': 0.004656594530227389,\n",
       "  'hidden_layer_sizes': 99.79828674597545,\n",
       "  'max_iter': 99.90189101613396})"
      ]
     },
     "execution_count": 5,
     "metadata": {},
     "output_type": "execute_result"
    }
   ],
   "source": [
    "get_bayesian_hyperparams_discrete(X, T, is_nnet=True)"
   ]
  },
  {
   "cell_type": "code",
   "execution_count": 6,
   "metadata": {},
   "outputs": [
    {
     "name": "stdout",
     "output_type": "stream",
     "text": [
      "|   iter    |  target   | l1_ratio  | max_iter  |\n",
      "-------------------------------------------------\n",
      "| \u001b[0m1        \u001b[0m | \u001b[0m3.566    \u001b[0m | \u001b[0m0.3996   \u001b[0m | \u001b[0m48.03    \u001b[0m |\n",
      "| \u001b[0m2        \u001b[0m | \u001b[0m3.558    \u001b[0m | \u001b[0m0.6856   \u001b[0m | \u001b[0m33.95    \u001b[0m |\n",
      "| \u001b[95m3        \u001b[0m | \u001b[95m3.593    \u001b[0m | \u001b[95m0.2248   \u001b[0m | \u001b[95m16.24    \u001b[0m |\n",
      "| \u001b[95m4        \u001b[0m | \u001b[95m3.612    \u001b[0m | \u001b[95m0.1465   \u001b[0m | \u001b[95m44.65    \u001b[0m |\n",
      "| \u001b[0m5        \u001b[0m | \u001b[0m3.557    \u001b[0m | \u001b[0m0.5809   \u001b[0m | \u001b[0m38.32    \u001b[0m |\n",
      "| \u001b[95m6        \u001b[0m | \u001b[95m3.618    \u001b[0m | \u001b[95m0.1005   \u001b[0m | \u001b[95m44.62    \u001b[0m |\n",
      "| \u001b[95m7        \u001b[0m | \u001b[95m3.618    \u001b[0m | \u001b[95m0.1      \u001b[0m | \u001b[95m44.24    \u001b[0m |\n",
      "| \u001b[0m8        \u001b[0m | \u001b[0m3.618    \u001b[0m | \u001b[0m0.1      \u001b[0m | \u001b[0m43.45    \u001b[0m |\n",
      "| \u001b[0m9        \u001b[0m | \u001b[0m3.558    \u001b[0m | \u001b[0m0.7728   \u001b[0m | \u001b[0m43.37    \u001b[0m |\n",
      "| \u001b[0m10       \u001b[0m | \u001b[0m3.615    \u001b[0m | \u001b[0m0.129    \u001b[0m | \u001b[0m42.87    \u001b[0m |\n",
      "| \u001b[0m11       \u001b[0m | \u001b[0m3.618    \u001b[0m | \u001b[0m0.1      \u001b[0m | \u001b[0m42.22    \u001b[0m |\n",
      "| \u001b[0m12       \u001b[0m | \u001b[0m3.557    \u001b[0m | \u001b[0m0.5458   \u001b[0m | \u001b[0m41.71    \u001b[0m |\n",
      "| \u001b[0m13       \u001b[0m | \u001b[0m3.564    \u001b[0m | \u001b[0m0.4407   \u001b[0m | \u001b[0m42.48    \u001b[0m |\n",
      "| \u001b[0m14       \u001b[0m | \u001b[0m3.616    \u001b[0m | \u001b[0m0.1137   \u001b[0m | \u001b[0m43.84    \u001b[0m |\n",
      "| \u001b[0m15       \u001b[0m | \u001b[0m3.562    \u001b[0m | \u001b[0m0.6106   \u001b[0m | \u001b[0m44.22    \u001b[0m |\n",
      "| \u001b[0m16       \u001b[0m | \u001b[0m3.557    \u001b[0m | \u001b[0m0.5832   \u001b[0m | \u001b[0m16.07    \u001b[0m |\n",
      "| \u001b[0m17       \u001b[0m | \u001b[0m3.617    \u001b[0m | \u001b[0m0.1036   \u001b[0m | \u001b[0m43.13    \u001b[0m |\n",
      "| \u001b[95m18       \u001b[0m | \u001b[95m3.618    \u001b[0m | \u001b[95m0.1      \u001b[0m | \u001b[95m17.04    \u001b[0m |\n",
      "| \u001b[0m19       \u001b[0m | \u001b[0m3.618    \u001b[0m | \u001b[0m0.1      \u001b[0m | \u001b[0m17.74    \u001b[0m |\n",
      "| \u001b[0m20       \u001b[0m | \u001b[0m3.616    \u001b[0m | \u001b[0m0.116    \u001b[0m | \u001b[0m43.15    \u001b[0m |\n",
      "| \u001b[0m21       \u001b[0m | \u001b[0m3.555    \u001b[0m | \u001b[0m0.8831   \u001b[0m | \u001b[0m17.75    \u001b[0m |\n",
      "| \u001b[0m22       \u001b[0m | \u001b[0m3.618    \u001b[0m | \u001b[0m0.1      \u001b[0m | \u001b[0m18.74    \u001b[0m |\n",
      "| \u001b[0m23       \u001b[0m | \u001b[0m3.618    \u001b[0m | \u001b[0m0.1      \u001b[0m | \u001b[0m19.59    \u001b[0m |\n",
      "| \u001b[0m24       \u001b[0m | \u001b[0m3.555    \u001b[0m | \u001b[0m0.8863   \u001b[0m | \u001b[0m19.47    \u001b[0m |\n",
      "| \u001b[0m25       \u001b[0m | \u001b[0m3.616    \u001b[0m | \u001b[0m0.1137   \u001b[0m | \u001b[0m20.43    \u001b[0m |\n",
      "=================================================\n",
      "Best Hyperparameters for Logistic Regression:\n",
      "l1_ratio: 0.1\n",
      "max_iter: 17.040898424240314\n",
      "|   iter    |  target   | max_depth | min_sa... | n_esti... |\n",
      "-------------------------------------------------------------\n",
      "| \u001b[0m1        \u001b[0m | \u001b[0m3.958    \u001b[0m | \u001b[0m18.73    \u001b[0m | \u001b[0m9.606    \u001b[0m | \u001b[0m19.64    \u001b[0m |\n",
      "| \u001b[95m2        \u001b[0m | \u001b[95m4.15     \u001b[0m | \u001b[95m29.93    \u001b[0m | \u001b[95m3.248    \u001b[0m | \u001b[95m8.12     \u001b[0m |\n",
      "| \u001b[0m3        \u001b[0m | \u001b[0m3.645    \u001b[0m | \u001b[0m2.904    \u001b[0m | \u001b[0m8.929    \u001b[0m | \u001b[0m17.02    \u001b[0m |\n",
      "| \u001b[0m4        \u001b[0m | \u001b[0m3.919    \u001b[0m | \u001b[0m35.4     \u001b[0m | \u001b[0m2.165    \u001b[0m | \u001b[0m24.4     \u001b[0m |\n",
      "| \u001b[95m5        \u001b[0m | \u001b[95m4.411    \u001b[0m | \u001b[95m41.62    \u001b[0m | \u001b[95m3.699    \u001b[0m | \u001b[95m8.636    \u001b[0m |\n",
      "| \u001b[0m6        \u001b[0m | \u001b[0m4.333    \u001b[0m | \u001b[0m47.56    \u001b[0m | \u001b[0m10.0     \u001b[0m | \u001b[0m5.0      \u001b[0m |\n",
      "| \u001b[0m7        \u001b[0m | \u001b[0m4.334    \u001b[0m | \u001b[0m42.29    \u001b[0m | \u001b[0m3.511    \u001b[0m | \u001b[0m7.751    \u001b[0m |\n",
      "| \u001b[0m8        \u001b[0m | \u001b[0m3.939    \u001b[0m | \u001b[0m41.29    \u001b[0m | \u001b[0m9.174    \u001b[0m | \u001b[0m11.06    \u001b[0m |\n",
      "| \u001b[95m9        \u001b[0m | \u001b[95m4.454    \u001b[0m | \u001b[95m38.81    \u001b[0m | \u001b[95m2.0      \u001b[0m | \u001b[95m8.642    \u001b[0m |\n",
      "| \u001b[0m10       \u001b[0m | \u001b[0m4.001    \u001b[0m | \u001b[0m40.6     \u001b[0m | \u001b[0m2.0      \u001b[0m | \u001b[0m12.77    \u001b[0m |\n",
      "| \u001b[0m11       \u001b[0m | \u001b[0m4.21     \u001b[0m | \u001b[0m38.52    \u001b[0m | \u001b[0m4.5      \u001b[0m | \u001b[0m6.785    \u001b[0m |\n",
      "| \u001b[0m12       \u001b[0m | \u001b[0m4.299    \u001b[0m | \u001b[0m35.95    \u001b[0m | \u001b[0m2.459    \u001b[0m | \u001b[0m9.155    \u001b[0m |\n",
      "| \u001b[95m13       \u001b[0m | \u001b[95m4.469    \u001b[0m | \u001b[95m50.0     \u001b[0m | \u001b[95m6.602    \u001b[0m | \u001b[95m5.0      \u001b[0m |\n",
      "| \u001b[0m14       \u001b[0m | \u001b[0m4.033    \u001b[0m | \u001b[0m50.0     \u001b[0m | \u001b[0m7.343    \u001b[0m | \u001b[0m8.478    \u001b[0m |\n",
      "| \u001b[0m15       \u001b[0m | \u001b[0m4.466    \u001b[0m | \u001b[0m49.14    \u001b[0m | \u001b[0m3.777    \u001b[0m | \u001b[0m5.375    \u001b[0m |\n",
      "=============================================================\n",
      "Best Hyperparameters for Random Forest Classifier:\n",
      "n_estimators: 5.0\n",
      "max_depth: 50.0\n",
      "|   iter    |  target   | learni... | max_depth | n_esti... |\n",
      "-------------------------------------------------------------\n",
      "| \u001b[0m1        \u001b[0m | \u001b[0m4.615    \u001b[0m | \u001b[0m0.3808   \u001b[0m | \u001b[0m4.901    \u001b[0m | \u001b[0m75.88    \u001b[0m |\n",
      "| \u001b[0m2        \u001b[0m | \u001b[0m4.482    \u001b[0m | \u001b[0m0.6027   \u001b[0m | \u001b[0m3.312    \u001b[0m | \u001b[0m24.04    \u001b[0m |\n",
      "| \u001b[0m3        \u001b[0m | \u001b[0m3.834    \u001b[0m | \u001b[0m0.0675   \u001b[0m | \u001b[0m4.732    \u001b[0m | \u001b[0m64.1     \u001b[0m |\n",
      "| \u001b[95m4        \u001b[0m | \u001b[95m6.197    \u001b[0m | \u001b[95m0.711    \u001b[0m | \u001b[95m3.041    \u001b[0m | \u001b[95m97.29    \u001b[0m |\n",
      "| \u001b[0m5        \u001b[0m | \u001b[0m5.287    \u001b[0m | \u001b[0m0.8341   \u001b[0m | \u001b[0m3.425    \u001b[0m | \u001b[0m26.36    \u001b[0m |\n",
      "| \u001b[95m6        \u001b[0m | \u001b[95m6.263    \u001b[0m | \u001b[95m0.7846   \u001b[0m | \u001b[95m3.046    \u001b[0m | \u001b[95m97.25    \u001b[0m |\n",
      "| \u001b[95m7        \u001b[0m | \u001b[95m7.453    \u001b[0m | \u001b[95m1.0      \u001b[0m | \u001b[95m3.227    \u001b[0m | \u001b[95m95.56    \u001b[0m |\n",
      "| \u001b[0m8        \u001b[0m | \u001b[0m7.174    \u001b[0m | \u001b[0m1.0      \u001b[0m | \u001b[0m5.0      \u001b[0m | \u001b[0m93.57    \u001b[0m |\n",
      "| \u001b[95m9        \u001b[0m | \u001b[95m7.518    \u001b[0m | \u001b[95m1.0      \u001b[0m | \u001b[95m3.0      \u001b[0m | \u001b[95m91.27    \u001b[0m |\n",
      "| \u001b[0m10       \u001b[0m | \u001b[0m7.089    \u001b[0m | \u001b[0m0.9443   \u001b[0m | \u001b[0m3.174    \u001b[0m | \u001b[0m86.23    \u001b[0m |\n",
      "| \u001b[0m11       \u001b[0m | \u001b[0m6.725    \u001b[0m | \u001b[0m1.0      \u001b[0m | \u001b[0m3.939    \u001b[0m | \u001b[0m36.91    \u001b[0m |\n",
      "| \u001b[0m12       \u001b[0m | \u001b[0m6.825    \u001b[0m | \u001b[0m1.0      \u001b[0m | \u001b[0m3.0      \u001b[0m | \u001b[0m43.56    \u001b[0m |\n",
      "| \u001b[0m13       \u001b[0m | \u001b[0m4.166    \u001b[0m | \u001b[0m0.01     \u001b[0m | \u001b[0m5.0      \u001b[0m | \u001b[0m49.48    \u001b[0m |\n",
      "| \u001b[0m14       \u001b[0m | \u001b[0m4.639    \u001b[0m | \u001b[0m0.01     \u001b[0m | \u001b[0m5.0      \u001b[0m | \u001b[0m10.0     \u001b[0m |\n",
      "| \u001b[0m15       \u001b[0m | \u001b[0m4.029    \u001b[0m | \u001b[0m0.1827   \u001b[0m | \u001b[0m4.993    \u001b[0m | \u001b[0m40.75    \u001b[0m |\n",
      "=============================================================\n",
      "Best Hyperparameters for Gradient Boosting Classifier:\n",
      "n_estimators: 91.26809311380187\n",
      "learning_rate: 1.0\n",
      "max_depth: 3.0\n",
      "|   iter    |  target   |   alpha   | hidden... | max_iter  |\n",
      "-------------------------------------------------------------\n"
     ]
    },
    {
     "name": "stderr",
     "output_type": "stream",
     "text": [
      "Stochastic Optimizer: Maximum iterations (19) reached and the optimization hasn't converged yet.\n",
      "Stochastic Optimizer: Maximum iterations (19) reached and the optimization hasn't converged yet.\n",
      "Stochastic Optimizer: Maximum iterations (19) reached and the optimization hasn't converged yet.\n",
      "Stochastic Optimizer: Maximum iterations (19) reached and the optimization hasn't converged yet.\n",
      "Stochastic Optimizer: Maximum iterations (19) reached and the optimization hasn't converged yet.\n",
      "Stochastic Optimizer: Maximum iterations (19) reached and the optimization hasn't converged yet.\n",
      "Stochastic Optimizer: Maximum iterations (19) reached and the optimization hasn't converged yet.\n",
      "Stochastic Optimizer: Maximum iterations (19) reached and the optimization hasn't converged yet.\n",
      "Stochastic Optimizer: Maximum iterations (19) reached and the optimization hasn't converged yet.\n",
      "Stochastic Optimizer: Maximum iterations (19) reached and the optimization hasn't converged yet.\n",
      "Stochastic Optimizer: Maximum iterations (8) reached and the optimization hasn't converged yet.\n",
      "Stochastic Optimizer: Maximum iterations (8) reached and the optimization hasn't converged yet.\n",
      "Stochastic Optimizer: Maximum iterations (8) reached and the optimization hasn't converged yet.\n",
      "Stochastic Optimizer: Maximum iterations (8) reached and the optimization hasn't converged yet.\n",
      "Stochastic Optimizer: Maximum iterations (8) reached and the optimization hasn't converged yet.\n",
      "Stochastic Optimizer: Maximum iterations (8) reached and the optimization hasn't converged yet.\n",
      "Stochastic Optimizer: Maximum iterations (8) reached and the optimization hasn't converged yet.\n",
      "Stochastic Optimizer: Maximum iterations (8) reached and the optimization hasn't converged yet.\n",
      "Stochastic Optimizer: Maximum iterations (8) reached and the optimization hasn't converged yet.\n",
      "Stochastic Optimizer: Maximum iterations (8) reached and the optimization hasn't converged yet.\n"
     ]
    },
    {
     "name": "stdout",
     "output_type": "stream",
     "text": [
      "| \u001b[0m1        \u001b[0m | \u001b[0m7.746    \u001b[0m | \u001b[0m0.003808 \u001b[0m | \u001b[0m95.56    \u001b[0m | \u001b[0m19.64    \u001b[0m |\n",
      "| \u001b[95m2        \u001b[0m | \u001b[95m12.49    \u001b[0m | \u001b[95m0.006027 \u001b[0m | \u001b[95m24.04    \u001b[0m | \u001b[95m8.12     \u001b[0m |\n"
     ]
    },
    {
     "name": "stderr",
     "output_type": "stream",
     "text": [
      "Stochastic Optimizer: Maximum iterations (17) reached and the optimization hasn't converged yet.\n",
      "Stochastic Optimizer: Maximum iterations (17) reached and the optimization hasn't converged yet.\n",
      "Stochastic Optimizer: Maximum iterations (17) reached and the optimization hasn't converged yet.\n",
      "Stochastic Optimizer: Maximum iterations (17) reached and the optimization hasn't converged yet.\n",
      "Stochastic Optimizer: Maximum iterations (17) reached and the optimization hasn't converged yet.\n",
      "Stochastic Optimizer: Maximum iterations (17) reached and the optimization hasn't converged yet.\n",
      "Stochastic Optimizer: Maximum iterations (17) reached and the optimization hasn't converged yet.\n",
      "Stochastic Optimizer: Maximum iterations (17) reached and the optimization hasn't converged yet.\n",
      "Stochastic Optimizer: Maximum iterations (17) reached and the optimization hasn't converged yet.\n",
      "Stochastic Optimizer: Maximum iterations (17) reached and the optimization hasn't converged yet.\n"
     ]
    },
    {
     "name": "stdout",
     "output_type": "stream",
     "text": [
      "| \u001b[0m3        \u001b[0m | \u001b[0m7.988    \u001b[0m | \u001b[0m0.000675 \u001b[0m | \u001b[0m87.96    \u001b[0m | \u001b[0m17.02    \u001b[0m |\n"
     ]
    },
    {
     "name": "stderr",
     "output_type": "stream",
     "text": [
      "Stochastic Optimizer: Maximum iterations (24) reached and the optimization hasn't converged yet.\n",
      "Stochastic Optimizer: Maximum iterations (24) reached and the optimization hasn't converged yet.\n",
      "Stochastic Optimizer: Maximum iterations (24) reached and the optimization hasn't converged yet.\n",
      "Stochastic Optimizer: Maximum iterations (24) reached and the optimization hasn't converged yet.\n",
      "Stochastic Optimizer: Maximum iterations (24) reached and the optimization hasn't converged yet.\n",
      "Stochastic Optimizer: Maximum iterations (24) reached and the optimization hasn't converged yet.\n",
      "Stochastic Optimizer: Maximum iterations (24) reached and the optimization hasn't converged yet.\n",
      "Stochastic Optimizer: Maximum iterations (24) reached and the optimization hasn't converged yet.\n",
      "Stochastic Optimizer: Maximum iterations (24) reached and the optimization hasn't converged yet.\n",
      "Stochastic Optimizer: Maximum iterations (24) reached and the optimization hasn't converged yet.\n",
      "Stochastic Optimizer: Maximum iterations (8) reached and the optimization hasn't converged yet.\n",
      "Stochastic Optimizer: Maximum iterations (8) reached and the optimization hasn't converged yet.\n",
      "Stochastic Optimizer: Maximum iterations (8) reached and the optimization hasn't converged yet.\n",
      "Stochastic Optimizer: Maximum iterations (8) reached and the optimization hasn't converged yet.\n",
      "Stochastic Optimizer: Maximum iterations (8) reached and the optimization hasn't converged yet.\n",
      "Stochastic Optimizer: Maximum iterations (8) reached and the optimization hasn't converged yet.\n",
      "Stochastic Optimizer: Maximum iterations (8) reached and the optimization hasn't converged yet.\n",
      "Stochastic Optimizer: Maximum iterations (8) reached and the optimization hasn't converged yet.\n"
     ]
    },
    {
     "name": "stdout",
     "output_type": "stream",
     "text": [
      "| \u001b[0m4        \u001b[0m | \u001b[0m11.43    \u001b[0m | \u001b[0m0.00711  \u001b[0m | \u001b[0m11.85    \u001b[0m | \u001b[0m24.4     \u001b[0m |\n",
      "| \u001b[0m5        \u001b[0m | \u001b[0m10.49    \u001b[0m | \u001b[0m0.008341 \u001b[0m | \u001b[0m29.11    \u001b[0m | \u001b[0m8.636    \u001b[0m |\n"
     ]
    },
    {
     "name": "stderr",
     "output_type": "stream",
     "text": [
      "Stochastic Optimizer: Maximum iterations (8) reached and the optimization hasn't converged yet.\n",
      "Stochastic Optimizer: Maximum iterations (8) reached and the optimization hasn't converged yet.\n",
      "Stochastic Optimizer: Maximum iterations (10) reached and the optimization hasn't converged yet.\n",
      "Stochastic Optimizer: Maximum iterations (10) reached and the optimization hasn't converged yet.\n",
      "Stochastic Optimizer: Maximum iterations (10) reached and the optimization hasn't converged yet.\n",
      "Stochastic Optimizer: Maximum iterations (10) reached and the optimization hasn't converged yet.\n",
      "Stochastic Optimizer: Maximum iterations (10) reached and the optimization hasn't converged yet.\n",
      "Stochastic Optimizer: Maximum iterations (10) reached and the optimization hasn't converged yet.\n",
      "Stochastic Optimizer: Maximum iterations (10) reached and the optimization hasn't converged yet.\n",
      "Stochastic Optimizer: Maximum iterations (10) reached and the optimization hasn't converged yet.\n",
      "Stochastic Optimizer: Maximum iterations (10) reached and the optimization hasn't converged yet.\n",
      "Stochastic Optimizer: Maximum iterations (10) reached and the optimization hasn't converged yet.\n"
     ]
    },
    {
     "name": "stdout",
     "output_type": "stream",
     "text": [
      "| \u001b[95m6        \u001b[0m | \u001b[95m14.78    \u001b[0m | \u001b[95m0.0007827\u001b[0m | \u001b[95m15.13    \u001b[0m | \u001b[95m10.64    \u001b[0m |\n"
     ]
    },
    {
     "name": "stderr",
     "output_type": "stream",
     "text": [
      "Stochastic Optimizer: Maximum iterations (10) reached and the optimization hasn't converged yet.\n",
      "Stochastic Optimizer: Maximum iterations (10) reached and the optimization hasn't converged yet.\n",
      "Stochastic Optimizer: Maximum iterations (10) reached and the optimization hasn't converged yet.\n",
      "Stochastic Optimizer: Maximum iterations (10) reached and the optimization hasn't converged yet.\n",
      "Stochastic Optimizer: Maximum iterations (10) reached and the optimization hasn't converged yet.\n",
      "Stochastic Optimizer: Maximum iterations (10) reached and the optimization hasn't converged yet.\n",
      "Stochastic Optimizer: Maximum iterations (10) reached and the optimization hasn't converged yet.\n",
      "Stochastic Optimizer: Maximum iterations (10) reached and the optimization hasn't converged yet.\n",
      "Stochastic Optimizer: Maximum iterations (10) reached and the optimization hasn't converged yet.\n",
      "Stochastic Optimizer: Maximum iterations (10) reached and the optimization hasn't converged yet.\n"
     ]
    },
    {
     "name": "stdout",
     "output_type": "stream",
     "text": [
      "| \u001b[95m7        \u001b[0m | \u001b[95m18.11    \u001b[0m | \u001b[95m0.001465 \u001b[0m | \u001b[95m15.25    \u001b[0m | \u001b[95m10.5     \u001b[0m |\n"
     ]
    },
    {
     "name": "stderr",
     "output_type": "stream",
     "text": [
      "Stochastic Optimizer: Maximum iterations (10) reached and the optimization hasn't converged yet.\n",
      "Stochastic Optimizer: Maximum iterations (10) reached and the optimization hasn't converged yet.\n",
      "Stochastic Optimizer: Maximum iterations (10) reached and the optimization hasn't converged yet.\n",
      "Stochastic Optimizer: Maximum iterations (10) reached and the optimization hasn't converged yet.\n",
      "Stochastic Optimizer: Maximum iterations (10) reached and the optimization hasn't converged yet.\n",
      "Stochastic Optimizer: Maximum iterations (10) reached and the optimization hasn't converged yet.\n",
      "Stochastic Optimizer: Maximum iterations (10) reached and the optimization hasn't converged yet.\n",
      "Stochastic Optimizer: Maximum iterations (10) reached and the optimization hasn't converged yet.\n",
      "Stochastic Optimizer: Maximum iterations (10) reached and the optimization hasn't converged yet.\n",
      "Stochastic Optimizer: Maximum iterations (10) reached and the optimization hasn't converged yet.\n"
     ]
    },
    {
     "name": "stdout",
     "output_type": "stream",
     "text": [
      "| \u001b[0m8        \u001b[0m | \u001b[0m13.96    \u001b[0m | \u001b[0m0.005293 \u001b[0m | \u001b[0m15.63    \u001b[0m | \u001b[0m10.53    \u001b[0m |\n"
     ]
    },
    {
     "name": "stderr",
     "output_type": "stream",
     "text": [
      "Stochastic Optimizer: Maximum iterations (10) reached and the optimization hasn't converged yet.\n",
      "Stochastic Optimizer: Maximum iterations (10) reached and the optimization hasn't converged yet.\n",
      "Stochastic Optimizer: Maximum iterations (10) reached and the optimization hasn't converged yet.\n",
      "Stochastic Optimizer: Maximum iterations (10) reached and the optimization hasn't converged yet.\n",
      "Stochastic Optimizer: Maximum iterations (10) reached and the optimization hasn't converged yet.\n",
      "Stochastic Optimizer: Maximum iterations (10) reached and the optimization hasn't converged yet.\n",
      "Stochastic Optimizer: Maximum iterations (10) reached and the optimization hasn't converged yet.\n",
      "Stochastic Optimizer: Maximum iterations (10) reached and the optimization hasn't converged yet.\n",
      "Stochastic Optimizer: Maximum iterations (10) reached and the optimization hasn't converged yet.\n",
      "Stochastic Optimizer: Maximum iterations (10) reached and the optimization hasn't converged yet.\n"
     ]
    },
    {
     "name": "stdout",
     "output_type": "stream",
     "text": [
      "| \u001b[0m9        \u001b[0m | \u001b[0m14.15    \u001b[0m | \u001b[0m0.001899 \u001b[0m | \u001b[0m15.42    \u001b[0m | \u001b[0m10.27    \u001b[0m |\n"
     ]
    },
    {
     "name": "stderr",
     "output_type": "stream",
     "text": [
      "Stochastic Optimizer: Maximum iterations (11) reached and the optimization hasn't converged yet.\n",
      "Stochastic Optimizer: Maximum iterations (11) reached and the optimization hasn't converged yet.\n",
      "Stochastic Optimizer: Maximum iterations (11) reached and the optimization hasn't converged yet.\n",
      "Stochastic Optimizer: Maximum iterations (11) reached and the optimization hasn't converged yet.\n",
      "Stochastic Optimizer: Maximum iterations (11) reached and the optimization hasn't converged yet.\n",
      "Stochastic Optimizer: Maximum iterations (11) reached and the optimization hasn't converged yet.\n",
      "Stochastic Optimizer: Maximum iterations (11) reached and the optimization hasn't converged yet.\n",
      "Stochastic Optimizer: Maximum iterations (11) reached and the optimization hasn't converged yet.\n",
      "Stochastic Optimizer: Maximum iterations (11) reached and the optimization hasn't converged yet.\n",
      "Stochastic Optimizer: Maximum iterations (11) reached and the optimization hasn't converged yet.\n"
     ]
    },
    {
     "name": "stdout",
     "output_type": "stream",
     "text": [
      "| \u001b[0m10       \u001b[0m | \u001b[0m13.3     \u001b[0m | \u001b[0m0.00922  \u001b[0m | \u001b[0m15.6     \u001b[0m | \u001b[0m11.18    \u001b[0m |\n"
     ]
    },
    {
     "name": "stderr",
     "output_type": "stream",
     "text": [
      "Stochastic Optimizer: Maximum iterations (11) reached and the optimization hasn't converged yet.\n",
      "Stochastic Optimizer: Maximum iterations (11) reached and the optimization hasn't converged yet.\n",
      "Stochastic Optimizer: Maximum iterations (11) reached and the optimization hasn't converged yet.\n",
      "Stochastic Optimizer: Maximum iterations (11) reached and the optimization hasn't converged yet.\n",
      "Stochastic Optimizer: Maximum iterations (11) reached and the optimization hasn't converged yet.\n",
      "Stochastic Optimizer: Maximum iterations (11) reached and the optimization hasn't converged yet.\n",
      "Stochastic Optimizer: Maximum iterations (11) reached and the optimization hasn't converged yet.\n",
      "Stochastic Optimizer: Maximum iterations (11) reached and the optimization hasn't converged yet.\n",
      "Stochastic Optimizer: Maximum iterations (11) reached and the optimization hasn't converged yet.\n",
      "Stochastic Optimizer: Maximum iterations (11) reached and the optimization hasn't converged yet.\n"
     ]
    },
    {
     "name": "stdout",
     "output_type": "stream",
     "text": [
      "| \u001b[0m11       \u001b[0m | \u001b[0m12.86    \u001b[0m | \u001b[0m0.0009789\u001b[0m | \u001b[0m15.54    \u001b[0m | \u001b[0m11.2     \u001b[0m |\n"
     ]
    },
    {
     "name": "stderr",
     "output_type": "stream",
     "text": [
      "Stochastic Optimizer: Maximum iterations (10) reached and the optimization hasn't converged yet.\n",
      "Stochastic Optimizer: Maximum iterations (10) reached and the optimization hasn't converged yet.\n",
      "Stochastic Optimizer: Maximum iterations (10) reached and the optimization hasn't converged yet.\n",
      "Stochastic Optimizer: Maximum iterations (10) reached and the optimization hasn't converged yet.\n",
      "Stochastic Optimizer: Maximum iterations (10) reached and the optimization hasn't converged yet.\n",
      "Stochastic Optimizer: Maximum iterations (10) reached and the optimization hasn't converged yet.\n",
      "Stochastic Optimizer: Maximum iterations (10) reached and the optimization hasn't converged yet.\n",
      "Stochastic Optimizer: Maximum iterations (10) reached and the optimization hasn't converged yet.\n",
      "Stochastic Optimizer: Maximum iterations (10) reached and the optimization hasn't converged yet.\n",
      "Stochastic Optimizer: Maximum iterations (10) reached and the optimization hasn't converged yet.\n"
     ]
    },
    {
     "name": "stdout",
     "output_type": "stream",
     "text": [
      "| \u001b[0m12       \u001b[0m | \u001b[0m17.26    \u001b[0m | \u001b[0m0.008116 \u001b[0m | \u001b[0m15.0     \u001b[0m | \u001b[0m10.38    \u001b[0m |\n"
     ]
    },
    {
     "name": "stderr",
     "output_type": "stream",
     "text": [
      "Stochastic Optimizer: Maximum iterations (10) reached and the optimization hasn't converged yet.\n",
      "Stochastic Optimizer: Maximum iterations (10) reached and the optimization hasn't converged yet.\n",
      "Stochastic Optimizer: Maximum iterations (10) reached and the optimization hasn't converged yet.\n",
      "Stochastic Optimizer: Maximum iterations (10) reached and the optimization hasn't converged yet.\n",
      "Stochastic Optimizer: Maximum iterations (10) reached and the optimization hasn't converged yet.\n",
      "Stochastic Optimizer: Maximum iterations (10) reached and the optimization hasn't converged yet.\n",
      "Stochastic Optimizer: Maximum iterations (10) reached and the optimization hasn't converged yet.\n",
      "Stochastic Optimizer: Maximum iterations (10) reached and the optimization hasn't converged yet.\n",
      "Stochastic Optimizer: Maximum iterations (10) reached and the optimization hasn't converged yet.\n",
      "Stochastic Optimizer: Maximum iterations (10) reached and the optimization hasn't converged yet.\n"
     ]
    },
    {
     "name": "stdout",
     "output_type": "stream",
     "text": [
      "| \u001b[0m13       \u001b[0m | \u001b[0m13.8     \u001b[0m | \u001b[0m0.0001   \u001b[0m | \u001b[0m15.0     \u001b[0m | \u001b[0m10.09    \u001b[0m |\n"
     ]
    },
    {
     "name": "stderr",
     "output_type": "stream",
     "text": [
      "Stochastic Optimizer: Maximum iterations (10) reached and the optimization hasn't converged yet.\n",
      "Stochastic Optimizer: Maximum iterations (10) reached and the optimization hasn't converged yet.\n",
      "Stochastic Optimizer: Maximum iterations (10) reached and the optimization hasn't converged yet.\n",
      "Stochastic Optimizer: Maximum iterations (10) reached and the optimization hasn't converged yet.\n",
      "Stochastic Optimizer: Maximum iterations (10) reached and the optimization hasn't converged yet.\n",
      "Stochastic Optimizer: Maximum iterations (10) reached and the optimization hasn't converged yet.\n",
      "Stochastic Optimizer: Maximum iterations (10) reached and the optimization hasn't converged yet.\n",
      "Stochastic Optimizer: Maximum iterations (10) reached and the optimization hasn't converged yet.\n",
      "Stochastic Optimizer: Maximum iterations (10) reached and the optimization hasn't converged yet.\n",
      "Stochastic Optimizer: Maximum iterations (10) reached and the optimization hasn't converged yet.\n"
     ]
    },
    {
     "name": "stdout",
     "output_type": "stream",
     "text": [
      "| \u001b[0m14       \u001b[0m | \u001b[0m13.18    \u001b[0m | \u001b[0m0.0009236\u001b[0m | \u001b[0m14.37    \u001b[0m | \u001b[0m10.42    \u001b[0m |\n"
     ]
    },
    {
     "name": "stderr",
     "output_type": "stream",
     "text": [
      "Stochastic Optimizer: Maximum iterations (10) reached and the optimization hasn't converged yet.\n",
      "Stochastic Optimizer: Maximum iterations (10) reached and the optimization hasn't converged yet.\n",
      "Stochastic Optimizer: Maximum iterations (10) reached and the optimization hasn't converged yet.\n",
      "Stochastic Optimizer: Maximum iterations (10) reached and the optimization hasn't converged yet.\n",
      "Stochastic Optimizer: Maximum iterations (10) reached and the optimization hasn't converged yet.\n",
      "Stochastic Optimizer: Maximum iterations (10) reached and the optimization hasn't converged yet.\n",
      "Stochastic Optimizer: Maximum iterations (10) reached and the optimization hasn't converged yet.\n",
      "Stochastic Optimizer: Maximum iterations (10) reached and the optimization hasn't converged yet.\n",
      "Stochastic Optimizer: Maximum iterations (10) reached and the optimization hasn't converged yet.\n"
     ]
    },
    {
     "name": "stdout",
     "output_type": "stream",
     "text": [
      "| \u001b[0m15       \u001b[0m | \u001b[0m12.52    \u001b[0m | \u001b[0m0.0002124\u001b[0m | \u001b[0m14.71    \u001b[0m | \u001b[0m10.38    \u001b[0m |\n",
      "=============================================================\n",
      "Best Hyperparameters for Neural Net classifier:\n",
      "hidden_layer_sizes: 15.248409790825121\n",
      "alpha: 0.0014651603346668186\n",
      "max_iter: 10.496074111387756\n"
     ]
    },
    {
     "name": "stderr",
     "output_type": "stream",
     "text": [
      "Stochastic Optimizer: Maximum iterations (10) reached and the optimization hasn't converged yet.\n"
     ]
    },
    {
     "data": {
      "text/plain": [
       "({'l1_ratio': 0.1, 'max_iter': 17.040898424240314},\n",
       " {'max_depth': 50.0,\n",
       "  'min_samples_split': 6.601946621667733,\n",
       "  'n_estimators': 5.0},\n",
       " {'learning_rate': 1.0, 'max_depth': 3.0, 'n_estimators': 91.26809311380187},\n",
       " {'alpha': 0.0014651603346668186,\n",
       "  'hidden_layer_sizes': 15.248409790825121,\n",
       "  'max_iter': 10.496074111387756})"
      ]
     },
     "execution_count": 6,
     "metadata": {},
     "output_type": "execute_result"
    }
   ],
   "source": [
    "get_bayesian_hyperparams_continuous(X_Scaled, Y, is_nnet = True)"
   ]
  }
 ],
 "metadata": {
  "kernelspec": {
   "display_name": "Python 3",
   "language": "python",
   "name": "python3"
  },
  "language_info": {
   "codemirror_mode": {
    "name": "ipython",
    "version": 3
   },
   "file_extension": ".py",
   "mimetype": "text/x-python",
   "name": "python",
   "nbconvert_exporter": "python",
   "pygments_lexer": "ipython3",
   "version": "3.8.4"
  },
  "orig_nbformat": 4
 },
 "nbformat": 4,
 "nbformat_minor": 2
}
