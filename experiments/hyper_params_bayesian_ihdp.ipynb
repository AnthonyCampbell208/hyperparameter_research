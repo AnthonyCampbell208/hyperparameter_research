{
 "cells": [
  {
   "cell_type": "code",
   "execution_count": 10,
   "metadata": {},
   "outputs": [],
   "source": [
    "import numpy as np\n",
    "from sklearn.linear_model import LogisticRegressionCV\n",
    "from sklearn.ensemble import RandomForestClassifier, GradientBoostingClassifier, GradientBoostingRegressor, RandomForestRegressor\n",
    "from sklearn.neural_network import MLPClassifier\n",
    "from sklearn.model_selection import cross_val_score\n",
    "from sklearn.metrics import mean_squared_error\n",
    "from bayes_opt import BayesianOptimization\n",
    "from utils import *\n",
    "from utils_bayesian import *"
   ]
  },
  {
   "cell_type": "code",
   "execution_count": 3,
   "metadata": {},
   "outputs": [],
   "source": [
    "#Load the ihdp dataset\n",
    "data, X, T, Y, true_ITE, true_ATE, true_ATE_stderr, is_discrete = load_ihdp()\n",
    "scaler = StandardScaler()\n",
    "X_Scaled = scaler.fit_transform(X)"
   ]
  },
  {
   "cell_type": "code",
   "execution_count": 7,
   "metadata": {},
   "outputs": [
    {
     "name": "stdout",
     "output_type": "stream",
     "text": [
      "|   iter    |  target   | max_depth | min_sa... | min_sa... | n_esti... |\n",
      "-------------------------------------------------------------------------\n",
      "| \u001b[0m1        \u001b[0m | \u001b[0m0.3592   \u001b[0m | \u001b[0m10.62    \u001b[0m | \u001b[0m1.951    \u001b[0m | \u001b[0m4.196    \u001b[0m | \u001b[0m69.9     \u001b[0m |\n",
      "| \u001b[0m2        \u001b[0m | \u001b[0m0.3565   \u001b[0m | \u001b[0m7.34     \u001b[0m | \u001b[0m1.156    \u001b[0m | \u001b[0m2.174    \u001b[0m | \u001b[0m89.96    \u001b[0m |\n",
      "| \u001b[95m3        \u001b[0m | \u001b[95m0.3646   \u001b[0m | \u001b[95m14.02    \u001b[0m | \u001b[95m1.708    \u001b[0m | \u001b[95m2.062    \u001b[0m | \u001b[95m97.74    \u001b[0m |\n",
      "| \u001b[95m4        \u001b[0m | \u001b[95m0.3699   \u001b[0m | \u001b[95m17.49    \u001b[0m | \u001b[95m1.212    \u001b[0m | \u001b[95m2.545    \u001b[0m | \u001b[95m38.76    \u001b[0m |\n",
      "| \u001b[0m5        \u001b[0m | \u001b[0m0.3539   \u001b[0m | \u001b[0m9.564    \u001b[0m | \u001b[0m1.525    \u001b[0m | \u001b[0m3.296    \u001b[0m | \u001b[0m46.84    \u001b[0m |\n",
      "| \u001b[0m6        \u001b[0m | \u001b[0m0.3633   \u001b[0m | \u001b[0m17.74    \u001b[0m | \u001b[0m1.616    \u001b[0m | \u001b[0m2.56     \u001b[0m | \u001b[0m38.29    \u001b[0m |\n",
      "| \u001b[0m7        \u001b[0m | \u001b[0m0.3565   \u001b[0m | \u001b[0m17.13    \u001b[0m | \u001b[0m1.108    \u001b[0m | \u001b[0m2.251    \u001b[0m | \u001b[0m38.92    \u001b[0m |\n",
      "| \u001b[0m8        \u001b[0m | \u001b[0m0.3525   \u001b[0m | \u001b[0m5.067    \u001b[0m | \u001b[0m1.04     \u001b[0m | \u001b[0m3.399    \u001b[0m | \u001b[0m51.41    \u001b[0m |\n",
      "| \u001b[0m9        \u001b[0m | \u001b[0m0.3673   \u001b[0m | \u001b[0m19.56    \u001b[0m | \u001b[0m1.71     \u001b[0m | \u001b[0m4.982    \u001b[0m | \u001b[0m53.04    \u001b[0m |\n",
      "| \u001b[0m10       \u001b[0m | \u001b[0m0.3673   \u001b[0m | \u001b[0m12.07    \u001b[0m | \u001b[0m1.16     \u001b[0m | \u001b[0m4.406    \u001b[0m | \u001b[0m32.24    \u001b[0m |\n",
      "| \u001b[0m11       \u001b[0m | \u001b[0m0.3673   \u001b[0m | \u001b[0m19.07    \u001b[0m | \u001b[0m1.706    \u001b[0m | \u001b[0m3.35     \u001b[0m | \u001b[0m99.89    \u001b[0m |\n",
      "| \u001b[0m12       \u001b[0m | \u001b[0m0.3619   \u001b[0m | \u001b[0m16.63    \u001b[0m | \u001b[0m1.882    \u001b[0m | \u001b[0m2.682    \u001b[0m | \u001b[0m52.93    \u001b[0m |\n",
      "| \u001b[0m13       \u001b[0m | \u001b[0m0.3485   \u001b[0m | \u001b[0m7.904    \u001b[0m | \u001b[0m1.621    \u001b[0m | \u001b[0m2.745    \u001b[0m | \u001b[0m82.58    \u001b[0m |\n",
      "| \u001b[0m14       \u001b[0m | \u001b[0m0.3565   \u001b[0m | \u001b[0m5.095    \u001b[0m | \u001b[0m1.459    \u001b[0m | \u001b[0m4.93     \u001b[0m | \u001b[0m64.51    \u001b[0m |\n",
      "| \u001b[95m15       \u001b[0m | \u001b[95m0.3726   \u001b[0m | \u001b[95m16.14    \u001b[0m | \u001b[95m1.525    \u001b[0m | \u001b[95m2.901    \u001b[0m | \u001b[95m26.48    \u001b[0m |\n",
      "=========================================================================\n",
      "Best Hyperparameters for Random Forest Classifier:\n",
      "n_estimators: 26.47574328737297\n",
      "max_depth: 16.13898636145639\n",
      "|   iter    |  target   | learni... | max_depth | n_esti... |\n",
      "-------------------------------------------------------------\n",
      "| \u001b[0m1        \u001b[0m | \u001b[0m0.425    \u001b[0m | \u001b[0m0.04371  \u001b[0m | \u001b[0m6.803    \u001b[0m | \u001b[0m392.8    \u001b[0m |\n",
      "| \u001b[95m2        \u001b[0m | \u001b[95m0.433    \u001b[0m | \u001b[95m0.06388  \u001b[0m | \u001b[95m3.624    \u001b[0m | \u001b[95m162.4    \u001b[0m |\n",
      "| \u001b[0m3        \u001b[0m | \u001b[0m0.3981   \u001b[0m | \u001b[0m0.01523  \u001b[0m | \u001b[0m6.465    \u001b[0m | \u001b[0m340.4    \u001b[0m |\n",
      "| \u001b[0m4        \u001b[0m | \u001b[0m0.4102   \u001b[0m | \u001b[0m0.07373  \u001b[0m | \u001b[0m3.082    \u001b[0m | \u001b[0m488.0    \u001b[0m |\n",
      "| \u001b[0m5        \u001b[0m | \u001b[0m0.4236   \u001b[0m | \u001b[0m0.08492  \u001b[0m | \u001b[0m3.849    \u001b[0m | \u001b[0m172.7    \u001b[0m |\n",
      "| \u001b[0m6        \u001b[0m | \u001b[0m0.374    \u001b[0m | \u001b[0m0.01     \u001b[0m | \u001b[0m4.537    \u001b[0m | \u001b[0m145.8    \u001b[0m |\n",
      "| \u001b[95m7        \u001b[0m | \u001b[95m0.4384   \u001b[0m | \u001b[95m0.0542   \u001b[0m | \u001b[95m4.833    \u001b[0m | \u001b[95m162.5    \u001b[0m |\n",
      "| \u001b[0m8        \u001b[0m | \u001b[0m0.4223   \u001b[0m | \u001b[0m0.1      \u001b[0m | \u001b[0m7.0      \u001b[0m | \u001b[0m167.0    \u001b[0m |\n",
      "| \u001b[0m9        \u001b[0m | \u001b[0m0.4209   \u001b[0m | \u001b[0m0.1      \u001b[0m | \u001b[0m7.0      \u001b[0m | \u001b[0m158.4    \u001b[0m |\n",
      "| \u001b[0m10       \u001b[0m | \u001b[0m0.4195   \u001b[0m | \u001b[0m0.07058  \u001b[0m | \u001b[0m5.376    \u001b[0m | \u001b[0m400.8    \u001b[0m |\n",
      "| \u001b[0m11       \u001b[0m | \u001b[0m0.4303   \u001b[0m | \u001b[0m0.03807  \u001b[0m | \u001b[0m3.234    \u001b[0m | \u001b[0m385.6    \u001b[0m |\n",
      "| \u001b[0m12       \u001b[0m | \u001b[0m0.4129   \u001b[0m | \u001b[0m0.1      \u001b[0m | \u001b[0m7.0      \u001b[0m | \u001b[0m380.1    \u001b[0m |\n",
      "| \u001b[0m13       \u001b[0m | \u001b[0m0.4209   \u001b[0m | \u001b[0m0.09484  \u001b[0m | \u001b[0m3.063    \u001b[0m | \u001b[0m181.0    \u001b[0m |\n",
      "| \u001b[0m14       \u001b[0m | \u001b[0m0.4289   \u001b[0m | \u001b[0m0.07293  \u001b[0m | \u001b[0m6.946    \u001b[0m | \u001b[0m190.3    \u001b[0m |\n",
      "| \u001b[0m15       \u001b[0m | \u001b[0m0.4277   \u001b[0m | \u001b[0m0.06859  \u001b[0m | \u001b[0m3.166    \u001b[0m | \u001b[0m195.1    \u001b[0m |\n",
      "=============================================================\n",
      "Best Hyperparameters for Gradient Boosting Classifier:\n",
      "n_estimators: 162.5404705103319\n",
      "learning_rate: 0.05419678189393804\n",
      "max_depth: 4.832869933103878\n"
     ]
    },
    {
     "data": {
      "text/plain": [
       "({'max_depth': 16.13898636145639,\n",
       "  'min_samples_leaf': 1.5250842411166738,\n",
       "  'min_samples_split': 2.901020584743147,\n",
       "  'n_estimators': 26.47574328737297},\n",
       " {'learning_rate': 0.05419678189393804,\n",
       "  'max_depth': 4.832869933103878,\n",
       "  'n_estimators': 162.5404705103319},\n",
       " [])"
      ]
     },
     "execution_count": 7,
     "metadata": {},
     "output_type": "execute_result"
    }
   ],
   "source": [
    "get_bayesian_hyperparams_discrete(X, T, is_nnet=False)"
   ]
  },
  {
   "cell_type": "code",
   "execution_count": 9,
   "metadata": {},
   "outputs": [
    {
     "name": "stdout",
     "output_type": "stream",
     "text": [
      "|   iter    |  target   | l1_ratio  | max_iter  |\n",
      "-------------------------------------------------\n",
      "| \u001b[0m1        \u001b[0m | \u001b[0m3.566    \u001b[0m | \u001b[0m0.3996   \u001b[0m | \u001b[0m48.03    \u001b[0m |\n",
      "| \u001b[0m2        \u001b[0m | \u001b[0m3.558    \u001b[0m | \u001b[0m0.6856   \u001b[0m | \u001b[0m33.95    \u001b[0m |\n",
      "| \u001b[95m3        \u001b[0m | \u001b[95m3.593    \u001b[0m | \u001b[95m0.2248   \u001b[0m | \u001b[95m16.24    \u001b[0m |\n",
      "| \u001b[95m4        \u001b[0m | \u001b[95m3.612    \u001b[0m | \u001b[95m0.1465   \u001b[0m | \u001b[95m44.65    \u001b[0m |\n",
      "| \u001b[0m5        \u001b[0m | \u001b[0m3.557    \u001b[0m | \u001b[0m0.5809   \u001b[0m | \u001b[0m38.32    \u001b[0m |\n",
      "| \u001b[95m6        \u001b[0m | \u001b[95m3.618    \u001b[0m | \u001b[95m0.1005   \u001b[0m | \u001b[95m44.62    \u001b[0m |\n",
      "| \u001b[95m7        \u001b[0m | \u001b[95m3.618    \u001b[0m | \u001b[95m0.1      \u001b[0m | \u001b[95m44.24    \u001b[0m |\n",
      "| \u001b[0m8        \u001b[0m | \u001b[0m3.618    \u001b[0m | \u001b[0m0.1      \u001b[0m | \u001b[0m43.45    \u001b[0m |\n",
      "| \u001b[0m9        \u001b[0m | \u001b[0m3.558    \u001b[0m | \u001b[0m0.7728   \u001b[0m | \u001b[0m43.37    \u001b[0m |\n",
      "| \u001b[0m10       \u001b[0m | \u001b[0m3.615    \u001b[0m | \u001b[0m0.129    \u001b[0m | \u001b[0m42.87    \u001b[0m |\n",
      "| \u001b[0m11       \u001b[0m | \u001b[0m3.618    \u001b[0m | \u001b[0m0.1      \u001b[0m | \u001b[0m42.22    \u001b[0m |\n",
      "| \u001b[0m12       \u001b[0m | \u001b[0m3.557    \u001b[0m | \u001b[0m0.5458   \u001b[0m | \u001b[0m41.71    \u001b[0m |\n",
      "| \u001b[0m13       \u001b[0m | \u001b[0m3.564    \u001b[0m | \u001b[0m0.4407   \u001b[0m | \u001b[0m42.48    \u001b[0m |\n",
      "| \u001b[0m14       \u001b[0m | \u001b[0m3.616    \u001b[0m | \u001b[0m0.1137   \u001b[0m | \u001b[0m43.84    \u001b[0m |\n",
      "| \u001b[0m15       \u001b[0m | \u001b[0m3.562    \u001b[0m | \u001b[0m0.6106   \u001b[0m | \u001b[0m44.22    \u001b[0m |\n",
      "| \u001b[0m16       \u001b[0m | \u001b[0m3.557    \u001b[0m | \u001b[0m0.5832   \u001b[0m | \u001b[0m16.07    \u001b[0m |\n",
      "| \u001b[0m17       \u001b[0m | \u001b[0m3.617    \u001b[0m | \u001b[0m0.1036   \u001b[0m | \u001b[0m43.13    \u001b[0m |\n",
      "| \u001b[95m18       \u001b[0m | \u001b[95m3.618    \u001b[0m | \u001b[95m0.1      \u001b[0m | \u001b[95m17.04    \u001b[0m |\n",
      "| \u001b[0m19       \u001b[0m | \u001b[0m3.618    \u001b[0m | \u001b[0m0.1      \u001b[0m | \u001b[0m17.74    \u001b[0m |\n",
      "| \u001b[0m20       \u001b[0m | \u001b[0m3.616    \u001b[0m | \u001b[0m0.116    \u001b[0m | \u001b[0m43.15    \u001b[0m |\n",
      "| \u001b[0m21       \u001b[0m | \u001b[0m3.555    \u001b[0m | \u001b[0m0.8831   \u001b[0m | \u001b[0m17.75    \u001b[0m |\n",
      "| \u001b[0m22       \u001b[0m | \u001b[0m3.618    \u001b[0m | \u001b[0m0.1      \u001b[0m | \u001b[0m18.74    \u001b[0m |\n",
      "| \u001b[0m23       \u001b[0m | \u001b[0m3.618    \u001b[0m | \u001b[0m0.1      \u001b[0m | \u001b[0m19.59    \u001b[0m |\n",
      "| \u001b[0m24       \u001b[0m | \u001b[0m3.555    \u001b[0m | \u001b[0m0.8863   \u001b[0m | \u001b[0m19.47    \u001b[0m |\n",
      "| \u001b[0m25       \u001b[0m | \u001b[0m3.616    \u001b[0m | \u001b[0m0.1137   \u001b[0m | \u001b[0m20.43    \u001b[0m |\n",
      "=================================================\n",
      "Best Hyperparameters for Logistic Regression:\n",
      "l1_ratio: 0.1\n",
      "max_iter: 17.040898424240314\n",
      "|   iter    |  target   | max_depth | min_sa... | n_esti... |\n",
      "-------------------------------------------------------------\n",
      "| \u001b[0m1        \u001b[0m | \u001b[0m3.791    \u001b[0m | \u001b[0m18.73    \u001b[0m | \u001b[0m9.606    \u001b[0m | \u001b[0m19.64    \u001b[0m |\n",
      "| \u001b[95m2        \u001b[0m | \u001b[95m3.976    \u001b[0m | \u001b[95m29.93    \u001b[0m | \u001b[95m3.248    \u001b[0m | \u001b[95m8.12     \u001b[0m |\n",
      "| \u001b[0m3        \u001b[0m | \u001b[0m3.682    \u001b[0m | \u001b[0m2.904    \u001b[0m | \u001b[0m8.929    \u001b[0m | \u001b[0m17.02    \u001b[0m |\n",
      "| \u001b[0m4        \u001b[0m | \u001b[0m3.915    \u001b[0m | \u001b[0m35.4     \u001b[0m | \u001b[0m2.165    \u001b[0m | \u001b[0m24.4     \u001b[0m |\n",
      "| \u001b[95m5        \u001b[0m | \u001b[95m4.341    \u001b[0m | \u001b[95m41.62    \u001b[0m | \u001b[95m3.699    \u001b[0m | \u001b[95m8.636    \u001b[0m |\n",
      "| \u001b[95m6        \u001b[0m | \u001b[95m4.479    \u001b[0m | \u001b[95m49.56    \u001b[0m | \u001b[95m3.91     \u001b[0m | \u001b[95m5.0      \u001b[0m |\n",
      "| \u001b[0m7        \u001b[0m | \u001b[0m4.456    \u001b[0m | \u001b[0m49.96    \u001b[0m | \u001b[0m4.283    \u001b[0m | \u001b[0m5.955    \u001b[0m |\n",
      "| \u001b[0m8        \u001b[0m | \u001b[0m4.388    \u001b[0m | \u001b[0m45.94    \u001b[0m | \u001b[0m10.0     \u001b[0m | \u001b[0m5.0      \u001b[0m |\n",
      "| \u001b[0m9        \u001b[0m | \u001b[0m4.382    \u001b[0m | \u001b[0m46.33    \u001b[0m | \u001b[0m2.0      \u001b[0m | \u001b[0m5.0      \u001b[0m |\n",
      "| \u001b[0m10       \u001b[0m | \u001b[0m3.859    \u001b[0m | \u001b[0m50.0     \u001b[0m | \u001b[0m10.0     \u001b[0m | \u001b[0m25.0     \u001b[0m |\n",
      "| \u001b[0m11       \u001b[0m | \u001b[0m4.183    \u001b[0m | \u001b[0m37.61    \u001b[0m | \u001b[0m10.0     \u001b[0m | \u001b[0m5.0      \u001b[0m |\n",
      "| \u001b[0m12       \u001b[0m | \u001b[0m4.456    \u001b[0m | \u001b[0m49.92    \u001b[0m | \u001b[0m8.655    \u001b[0m | \u001b[0m5.686    \u001b[0m |\n",
      "| \u001b[0m13       \u001b[0m | \u001b[0m4.34     \u001b[0m | \u001b[0m48.17    \u001b[0m | \u001b[0m6.619    \u001b[0m | \u001b[0m5.063    \u001b[0m |\n",
      "| \u001b[0m14       \u001b[0m | \u001b[0m3.835    \u001b[0m | \u001b[0m50.0     \u001b[0m | \u001b[0m10.0     \u001b[0m | \u001b[0m12.27    \u001b[0m |\n",
      "| \u001b[0m15       \u001b[0m | \u001b[0m4.466    \u001b[0m | \u001b[0m12.56    \u001b[0m | \u001b[0m2.0      \u001b[0m | \u001b[0m5.0      \u001b[0m |\n",
      "=============================================================\n",
      "Best Hyperparameters for Random Forest Classifier:\n",
      "n_estimators: 5.0\n",
      "max_depth: 49.558356507282355\n",
      "|   iter    |  target   | learni... | max_depth | n_esti... |\n",
      "-------------------------------------------------------------\n",
      "| \u001b[0m1        \u001b[0m | \u001b[0m4.636    \u001b[0m | \u001b[0m0.3808   \u001b[0m | \u001b[0m4.901    \u001b[0m | \u001b[0m75.88    \u001b[0m |\n",
      "| \u001b[0m2        \u001b[0m | \u001b[0m4.465    \u001b[0m | \u001b[0m0.6027   \u001b[0m | \u001b[0m3.312    \u001b[0m | \u001b[0m24.04    \u001b[0m |\n",
      "| \u001b[0m3        \u001b[0m | \u001b[0m3.839    \u001b[0m | \u001b[0m0.0675   \u001b[0m | \u001b[0m4.732    \u001b[0m | \u001b[0m64.1     \u001b[0m |\n",
      "| \u001b[95m4        \u001b[0m | \u001b[95m6.07     \u001b[0m | \u001b[95m0.711    \u001b[0m | \u001b[95m3.041    \u001b[0m | \u001b[95m97.29    \u001b[0m |\n",
      "| \u001b[0m5        \u001b[0m | \u001b[0m5.218    \u001b[0m | \u001b[0m0.8341   \u001b[0m | \u001b[0m3.425    \u001b[0m | \u001b[0m26.36    \u001b[0m |\n",
      "| \u001b[95m6        \u001b[0m | \u001b[95m6.275    \u001b[0m | \u001b[95m0.7846   \u001b[0m | \u001b[95m3.046    \u001b[0m | \u001b[95m97.25    \u001b[0m |\n",
      "| \u001b[95m7        \u001b[0m | \u001b[95m7.35     \u001b[0m | \u001b[95m1.0      \u001b[0m | \u001b[95m3.207    \u001b[0m | \u001b[95m96.79    \u001b[0m |\n",
      "| \u001b[0m8        \u001b[0m | \u001b[0m6.414    \u001b[0m | \u001b[0m0.8265   \u001b[0m | \u001b[0m3.063    \u001b[0m | \u001b[0m95.8     \u001b[0m |\n",
      "| \u001b[0m9        \u001b[0m | \u001b[0m6.434    \u001b[0m | \u001b[0m0.8207   \u001b[0m | \u001b[0m4.188    \u001b[0m | \u001b[0m96.55    \u001b[0m |\n",
      "| \u001b[95m10       \u001b[0m | \u001b[95m7.357    \u001b[0m | \u001b[95m0.9553   \u001b[0m | \u001b[95m4.849    \u001b[0m | \u001b[95m94.52    \u001b[0m |\n",
      "| \u001b[0m11       \u001b[0m | \u001b[0m6.821    \u001b[0m | \u001b[0m1.0      \u001b[0m | \u001b[0m5.0      \u001b[0m | \u001b[0m93.43    \u001b[0m |\n",
      "| \u001b[0m12       \u001b[0m | \u001b[0m3.93     \u001b[0m | \u001b[0m0.01     \u001b[0m | \u001b[0m4.389    \u001b[0m | \u001b[0m94.16    \u001b[0m |\n",
      "| \u001b[95m13       \u001b[0m | \u001b[95m7.717    \u001b[0m | \u001b[95m0.97     \u001b[0m | \u001b[95m4.943    \u001b[0m | \u001b[95m95.56    \u001b[0m |\n",
      "| \u001b[0m14       \u001b[0m | \u001b[0m6.812    \u001b[0m | \u001b[0m0.9268   \u001b[0m | \u001b[0m4.187    \u001b[0m | \u001b[0m95.22    \u001b[0m |\n",
      "| \u001b[0m15       \u001b[0m | \u001b[0m7.111    \u001b[0m | \u001b[0m0.9363   \u001b[0m | \u001b[0m4.654    \u001b[0m | \u001b[0m91.77    \u001b[0m |\n",
      "=============================================================\n",
      "Best Hyperparameters for Gradient Boosting Classifier:\n",
      "n_estimators: 95.55502357786364\n",
      "learning_rate: 0.9700375927997763\n",
      "max_depth: 4.943259225919998\n"
     ]
    },
    {
     "data": {
      "text/plain": [
       "({'l1_ratio': 0.1, 'max_iter': 17.040898424240314},\n",
       " {'max_depth': 49.558356507282355,\n",
       "  'min_samples_split': 3.910015687013538,\n",
       "  'n_estimators': 5.0},\n",
       " {'learning_rate': 0.9700375927997763,\n",
       "  'max_depth': 4.943259225919998,\n",
       "  'n_estimators': 95.55502357786364},\n",
       " [])"
      ]
     },
     "execution_count": 9,
     "metadata": {},
     "output_type": "execute_result"
    }
   ],
   "source": [
    "get_bayesian_hyperparams_continuous(X_Scaled, Y, is_nnet = False)"
   ]
  },
  {
   "cell_type": "code",
   "execution_count": null,
   "metadata": {},
   "outputs": [],
   "source": []
  }
 ],
 "metadata": {
  "kernelspec": {
   "display_name": "Python 3",
   "language": "python",
   "name": "python3"
  },
  "language_info": {
   "codemirror_mode": {
    "name": "ipython",
    "version": 3
   },
   "file_extension": ".py",
   "mimetype": "text/x-python",
   "name": "python",
   "nbconvert_exporter": "python",
   "pygments_lexer": "ipython3",
   "version": "3.8.4"
  },
  "orig_nbformat": 4
 },
 "nbformat": 4,
 "nbformat_minor": 2
}
