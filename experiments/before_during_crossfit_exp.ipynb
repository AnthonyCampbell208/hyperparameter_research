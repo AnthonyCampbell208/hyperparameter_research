{
 "cells": [
  {
   "cell_type": "code",
   "execution_count": 1,
   "metadata": {},
   "outputs": [],
   "source": [
    "# import logging\n",
    "# import os\n",
    "# import pdb\n",
    "# import numpy as np\n",
    "# import pandas as pd\n",
    "# import utils\n",
    "# import time\n",
    "# import warnings\n",
    "# import csv\n",
    "# import os\n",
    "import during_crossfit_params_other\n",
    "import before_crossfit_params_new"
   ]
  },
  {
   "cell_type": "code",
   "execution_count": 2,
   "metadata": {},
   "outputs": [],
   "source": [
    "ci_estimator_list = ['tl', 'dml', 'kernel_dml', 'CausalForestDML']\n",
    "model_y = ['linear', 'forest', 'gbf', 'nnet']\n",
    "model_t = ['linear', 'forest', 'gbf', 'nnet']"
   ]
  },
  {
   "attachments": {},
   "cell_type": "markdown",
   "metadata": {},
   "source": [
    "IHDP Dataset"
   ]
  },
  {
   "attachments": {},
   "cell_type": "markdown",
   "metadata": {},
   "source": [
    "During Cross-fitting"
   ]
  },
  {
   "cell_type": "code",
   "execution_count": null,
   "metadata": {},
   "outputs": [],
   "source": [
    "key = 'ihdp'\n",
    "during_crossfit_params.main(ci_estimator_list, model_y, model_t, key, k=4)"
   ]
  },
  {
   "attachments": {},
   "cell_type": "markdown",
   "metadata": {},
   "source": [
    "{'fold 0': {'model_y': ElasticNetCV(l1_ratio=0.9, max_iter=100), 'model_t': LogisticRegressionCV(Cs=1, max_iter=25), 'Mse': {'tl': 7.522415610112231, 'dml': 6.1958663124037665, 'kernel_dml': 5.092179307704854, 'CausalForestDML': 6.104313206506676}, 'Runtime': {'tl': 0.15604853630065918, 'dml': 9.630453824996948, 'kernel_dml': 0.4279961585998535, 'CausalForestDML': 0.5730080604553223}}, \n",
    "\n",
    "'fold 1': {'model_y': RandomForestRegressor(max_depth=10, n_estimators=25), 'model_t': RandomForestClassifier(max_depth=5, min_samples_leaf=2, min_samples_split=5, n_estimators=25), 'Mse': {'tl': 8.629223154813356, 'dml': 8.14990031417063, 'kernel_dml': 5.236557810041166, 'CausalForestDML': 5.726556547598269}, 'Runtime': {'tl': 0.14014148712158203, 'dml': 1.2774248123168945, 'kernel_dml': 0.319002628326416, 'CausalForestDML': 0.4391043186187744}}, \n",
    "\n",
    "'fold 2': {'model_y': GradientBoostingRegressor(), 'model_t': GradientBoostingClassifier(learning_rate=0.01), 'Mse': {'tl': 8.653218183975012, 'dml': 7.229983065805759, 'kernel_dml': 4.545099065854809, 'CausalForestDML': 5.69423235994597}, 'Runtime': {'tl': 0.14896464347839355, 'dml': 2.4197700023651123, 'kernel_dml': 0.4591255187988281, 'CausalForestDML': 0.5746400356292725}}, \n",
    "\n",
    "'fold 3': {'model_y': MLPRegressor(max_iter=25), 'model_t': MLPClassifier(alpha=0.001, hidden_layer_sizes=(50,), max_iter=25), 'Mse': {'tl': 17.623448729826627, 'dml': 9.160365341698474, 'kernel_dml': 4.49084190576368, 'CausalForestDML': 6.753502026422641}, 'Runtime': {'tl': 0.2607533931732178, 'dml': 0.647728443145752, 'kernel_dml': 0.4145948886871338, 'CausalForestDML': 0.5427343845367432}}} \n",
    "\n",
    "46.24497675895691\n"
   ]
  },
  {
   "attachments": {},
   "cell_type": "markdown",
   "metadata": {},
   "source": [
    "{'tl': [7.522415610112231, 8.629223154813356, 8.653218183975012, 17.623448729826627],\n",
    "'dml': [6.1958663124037665, 8.14990031417063, 7.229983065805759, 9.160365341698474],\n",
    "'kernel_dml': [5.092179307704854, 5.236557810041166, 4.545099065854809, 4.49084190576368],\n",
    "'CausalForestDML': [6.104313206506676, 5.726556547598269, 5.69423235994597, 6.753502026422641]}\n",
    "\n",
    "{'tl': 0, 'dml': 0, 'kernel_dml': 3, 'CausalForestDML': 2}\n",
    "\n",
    "{'tl': {'best_model_y': ElasticNetCV(l1_ratio=0.9, max_iter=100), 'best_model_t': '', 'Mse': 7.522415610112231},\n",
    "'dml': {'best_model_y': ElasticNetCV(l1_ratio=0.9, max_iter=100), 'best_model_t': LogisticRegressionCV(Cs=1, max_iter=25), 'Mse': 6.1958663124037665},\n",
    "'kernel_dml': {'best_model_y': MLPRegressor(max_iter=25), 'best_model_t': MLPClassifier(alpha=0.001, hidden_layer_sizes=(50,), max_iter=25), 'Mse': 4.49084190576368},\n",
    "'CausalForestDML': {'best_model_y': GradientBoostingRegressor(), 'best_model_t': GradientBoostingClassifier(learning_rate=0.01), 'Mse': 5.69423235994597}}\n"
   ]
  },
  {
   "attachments": {},
   "cell_type": "markdown",
   "metadata": {},
   "source": [
    "{'tl': [0.15604853630065918, 0.14014148712158203, 0.14896464347839355, 0.2607533931732178], \n",
    "'dml': [9.630453824996948, 1.2774248123168945, 2.4197700023651123, 0.647728443145752], \n",
    "'kernel_dml': [0.4279961585998535, 0.319002628326416, 0.4591255187988281, 0.4145948886871338], \n",
    "'CausalForestDML': [0.5730080604553223, 0.4391043186187744, 0.5746400356292725, 0.5427343845367432]} \n",
    "\n",
    "{'tl': 1, 'dml': 3, 'kernel_dml': 1, 'CausalForestDML': 1} \n",
    "\n",
    "{'tl': {'best_model_y': RandomForestRegressor(max_depth=10, n_estimators=25), 'best_model_t': '', 'Runtime': 0.14014148712158203}, \n",
    "'dml': {'best_model_y': MLPRegressor(max_iter=25), 'best_model_t': MLPClassifier(alpha=0.001, hidden_layer_sizes=(50,), max_iter=25), 'Runtime': 0.647728443145752}, \n",
    "'kernel_dml': {'best_model_y': RandomForestRegressor(max_depth=10, n_estimators=25), 'best_model_t': RandomForestClassifier(max_depth=5, min_samples_leaf=2, min_samples_split=5, n_estimators=25), 'Runtime': 0.319002628326416}, \n",
    "'CausalForestDML': {'best_model_y': RandomForestRegressor(max_depth=10, n_estimators=25), 'best_model_t': RandomForestClassifier(max_depth=5, min_samples_leaf=2, min_samples_split=5, n_estimators=25), 'Runtime': 0.4391043186187744}}\n"
   ]
  },
  {
   "attachments": {},
   "cell_type": "markdown",
   "metadata": {},
   "source": [
    "Before Cross-fitting"
   ]
  },
  {
   "cell_type": "code",
   "execution_count": null,
   "metadata": {},
   "outputs": [],
   "source": [
    "key = 'ihdp'\n",
    "before_crossfit_params_new.main(ci_estimator_list, model_y, model_t, key, k=4)"
   ]
  },
  {
   "attachments": {},
   "cell_type": "markdown",
   "metadata": {},
   "source": [
    "TWIN Dataset"
   ]
  },
  {
   "attachments": {},
   "cell_type": "markdown",
   "metadata": {},
   "source": [
    "During Cross-fitting"
   ]
  },
  {
   "cell_type": "code",
   "execution_count": null,
   "metadata": {},
   "outputs": [],
   "source": [
    "key = 'twin'\n",
    "during_crossfit_params.main(ci_estimator_list, model_y, model_t, key, k=4)"
   ]
  },
  {
   "attachments": {},
   "cell_type": "markdown",
   "metadata": {},
   "source": [
    "{'fold 0': {'model_y': ElasticNetCV(l1_ratio=0.9, max_iter=100), 'model_t': LogisticRegressionCV(max_iter=25), 'Mse': {'tl': 0.15256233788544776, 'dml': 0.10812668275965963, 'kernel_dml': 0.16572096128170893, 'CausalForestDML': 0.14120289983353243}, 'Runtime': {'tl': 0.3775370121002197, 'dml': 45.31202721595764, 'kernel_dml': 3.5571064949035645, 'CausalForestDML': 6.676959991455078}}, \n",
    "\n",
    "'fold 1': {'model_y': RandomForestRegressor(max_depth=10, n_estimators=25), 'model_t': RandomForestClassifier(min_samples_leaf=2, min_samples_split=5, n_estimators=25), 'Mse': {'tl': 0.16727746607929153, 'dml': 0.16571002180720207, 'kernel_dml': 0.17353813513727787, 'CausalForestDML': 0.16663956588132664}, 'Runtime': {'tl': 3.0297844409942627, 'dml': 244.7101273536682, 'kernel_dml': 5.239112138748169, 'CausalForestDML': 8.352089405059814}}, \n",
    "\n",
    "'fold 2': {'model_y': GradientBoostingRegressor(), 'model_t': GradientBoostingClassifier(learning_rate=0.01, n_estimators=500), 'Mse': {'tl': 0.16343999400854614, 'dml': 0.16666251940021218, 'kernel_dml': 0.17509369110091103, 'CausalForestDML': 0.1644531641068233}, 'Runtime': {'tl': 5.872559547424316, 'dml': 526.2035109996796, 'kernel_dml': 38.1200110912323, 'CausalForestDML': 41.825913190841675}}, \n",
    "\n",
    "'fold 3': {'model_y': MLPRegressor(alpha=0.01, max_iter=25), 'model_t': MLPClassifier(hidden_layer_sizes=(50,), learning_rate='adaptive', max_iter=25), 'Mse': {'tl': 5.339875644515088, 'dml': 850909599.5222945, 'kernel_dml': 0.18207610146862482, 'CausalForestDML': 1.386480025036902}, 'Runtime': {'tl': 7.452704668045044, 'dml': 62.683273792266846, 'kernel_dml': 13.718731164932251, 'CausalForestDML': 17.435981512069702}}} \n",
    "\n",
    "1722.3651785850525\n"
   ]
  },
  {
   "attachments": {},
   "cell_type": "markdown",
   "metadata": {},
   "source": [
    "{'tl': [0.15256233788544776, 0.16727746607929153, 0.16343999400854614, 5.339875644515088], \n",
    "'dml': [0.10812668275965963, 0.16571002180720207, 0.16666251940021218, 850909599.5222945], \n",
    "'kernel_dml': [0.16572096128170893, 0.17353813513727787, 0.17509369110091103, 0.18207610146862482], \n",
    "'CausalForestDML': [0.14120289983353243, 0.16663956588132664, 0.1644531641068233, 1.386480025036902]} \n",
    "\n",
    "{'tl': 0, 'dml': 0, 'kernel_dml': 0, 'CausalForestDML': 0} \n",
    "\n",
    "{'tl': {'best_model_y': ElasticNetCV(l1_ratio=0.9, max_iter=100), 'best_model_t': '', 'Mse': 0.15256233788544776}, \n",
    "'dml': {'best_model_y': ElasticNetCV(l1_ratio=0.9, max_iter=100), 'best_model_t': LogisticRegressionCV(max_iter=25), 'Mse': 0.10812668275965963}, 'kernel_dml': {'best_model_y': ElasticNetCV(l1_ratio=0.9, max_iter=100), 'best_model_t': LogisticRegressionCV(max_iter=25), 'Mse': 0.16572096128170893}, \n",
    "'CausalForestDML': {'best_model_y': ElasticNetCV(l1_ratio=0.9, max_iter=100), 'best_model_t': LogisticRegressionCV(max_iter=25), 'Mse': 0.14120289983353243}}\n"
   ]
  },
  {
   "attachments": {},
   "cell_type": "markdown",
   "metadata": {},
   "source": [
    "{'tl': [0.3775370121002197, 3.0297844409942627, 5.872559547424316, 7.452704668045044], \n",
    "'dml': [45.31202721595764, 244.7101273536682, 526.2035109996796, 62.683273792266846], \n",
    "'kernel_dml': [3.5571064949035645, 5.239112138748169, 38.1200110912323, 13.718731164932251], \n",
    "'CausalForestDML': [6.676959991455078, 8.352089405059814, 41.825913190841675, 17.435981512069702]} \n",
    "\n",
    "{'tl': 0, 'dml': 0, 'kernel_dml': 0, 'CausalForestDML': 0} \n",
    "\n",
    "{'tl': {'best_model_y': ElasticNetCV(l1_ratio=0.9, max_iter=100), 'best_model_t': '', 'Runtime': 0.3775370121002197}, \n",
    "'dml': {'best_model_y': ElasticNetCV(l1_ratio=0.9, max_iter=100), 'best_model_t': LogisticRegressionCV(max_iter=25), 'Runtime': 45.31202721595764}, 'kernel_dml': {'best_model_y': ElasticNetCV(l1_ratio=0.9, max_iter=100), 'best_model_t': LogisticRegressionCV(max_iter=25), 'Runtime': 3.5571064949035645}, \n",
    "'CausalForestDML': {'best_model_y': ElasticNetCV(l1_ratio=0.9, max_iter=100), 'best_model_t': LogisticRegressionCV(max_iter=25), 'Runtime': 6.676959991455078}}"
   ]
  },
  {
   "attachments": {},
   "cell_type": "markdown",
   "metadata": {},
   "source": [
    "Before Cross-fitting"
   ]
  },
  {
   "cell_type": "code",
   "execution_count": null,
   "metadata": {},
   "outputs": [],
   "source": [
    "key = 'twin'\n",
    "before_crossfit_params_new.main(ci_estimator_list, model_y, model_t, key, k=4)"
   ]
  },
  {
   "attachments": {},
   "cell_type": "markdown",
   "metadata": {},
   "source": [
    "ACIC Dataset"
   ]
  },
  {
   "attachments": {},
   "cell_type": "markdown",
   "metadata": {},
   "source": [
    "During Cross-fitting"
   ]
  },
  {
   "cell_type": "code",
   "execution_count": null,
   "metadata": {},
   "outputs": [],
   "source": [
    "key = 'acic'\n",
    "during_crossfit_params.main(ci_estimator_list, model_y, model_t, key, k=4)"
   ]
  },
  {
   "attachments": {},
   "cell_type": "markdown",
   "metadata": {},
   "source": [
    "Before Cross-fitting"
   ]
  },
  {
   "cell_type": "code",
   "execution_count": null,
   "metadata": {},
   "outputs": [],
   "source": [
    "key = 'acic'\n",
    "before_crossfit_params_new.main(ci_estimator_list, model_y, model_t, key, k=4)"
   ]
  }
 ],
 "metadata": {
  "kernelspec": {
   "display_name": ".venv",
   "language": "python",
   "name": "python3"
  },
  "language_info": {
   "codemirror_mode": {
    "name": "ipython",
    "version": 3
   },
   "file_extension": ".py",
   "mimetype": "text/x-python",
   "name": "python",
   "nbconvert_exporter": "python",
   "pygments_lexer": "ipython3",
   "version": "3.8.4"
  },
  "orig_nbformat": 4
 },
 "nbformat": 4,
 "nbformat_minor": 2
}
