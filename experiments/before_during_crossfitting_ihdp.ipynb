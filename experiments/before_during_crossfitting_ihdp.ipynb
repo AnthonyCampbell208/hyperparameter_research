{
 "cells": [
  {
   "cell_type": "code",
   "execution_count": 175,
   "metadata": {},
   "outputs": [],
   "source": [
    "from itertools import product\n",
    "from sklearn.tree import DecisionTreeClassifier, DecisionTreeRegressor\n",
    "from sklearn.svm import SVC, LinearSVC\n",
    "from sklearn.preprocessing import (MaxAbsScaler, MinMaxScaler,\n",
    "                                   PolynomialFeatures, RobustScaler,\n",
    "                                   StandardScaler)\n",
    "from sklearn.pipeline import Pipeline\n",
    "from sklearn.neural_network import MLPClassifier, MLPRegressor\n",
    "from sklearn.model_selection import (BaseCrossValidator, GridSearchCV, KFold,\n",
    "                                     RandomizedSearchCV, StratifiedKFold,\n",
    "                                     check_cv, train_test_split)\n",
    "from sklearn.linear_model import (ARDRegression, BayesianRidge, ElasticNet,\n",
    "                                  ElasticNetCV, Lars, Lasso, LassoLars,\n",
    "                                  LinearRegression, LogisticRegression,\n",
    "                                  LogisticRegressionCV,\n",
    "                                  OrthogonalMatchingPursuit, Ridge)\n",
    "from sklearn.ensemble import (GradientBoostingClassifier,\n",
    "                              GradientBoostingRegressor,\n",
    "                              RandomForestClassifier, RandomForestRegressor)\n",
    "from sklearn.base import BaseEstimator, is_regressor\n",
    "import econml\n",
    "from econml.orf import DMLOrthoForest\n",
    "# from econml.metalearners import SLearner, TLearner, XLearner\n",
    "from econml.grf import CausalForest\n",
    "from econml.dr import DRLearner\n",
    "from econml.dml import CausalForestDML, KernelDML, LinearDML, SparseLinearDML\n",
    "import sklearn.preprocessing\n",
    "import sklearn.neural_network\n",
    "import sklearn.linear_model\n",
    "import sklearn.ensemble\n",
    "import sklearn\n",
    "import argparse\n",
    "import logging\n",
    "import os\n",
    "import pdb\n",
    "import numpy as np\n",
    "import pandas as pd\n",
    "import pickle\n",
    "import utils\n",
    "from sklearn.datasets import load_iris\n",
    "from sklearn.metrics import accuracy_score\n",
    "import time"
   ]
  },
  {
   "attachments": {},
   "cell_type": "markdown",
   "metadata": {},
   "source": [
    "During Cross-fitting"
   ]
  },
  {
   "cell_type": "code",
   "execution_count": 187,
   "metadata": {},
   "outputs": [],
   "source": [
    "def get_estimators(estimation_model, model_y, model_t):\n",
    "    if estimation_model == 'dml':\n",
    "        return LinearDML(model_y=model_y, model_t=model_t)\n",
    "    elif estimation_model == 'dr':\n",
    "        return DRLearner(model_propensity=model_t, model_regression=model_y)\n",
    "        # return DRLearner(model_propensity=model_y, model_regression=model_t)\n",
    "    elif estimation_model == 'kernel_dml':\n",
    "        return KernelDML(model_y=model_y, model_t=model_t)\n",
    "    # elif estimation_model == 'CausalForestDML':\n",
    "    #     return CausalForestDML(model_y=model_y, model_t=model_t)\n",
    "    else:\n",
    "        raise ValueError(\"Unrecognized 'estimation_model' key.\")"
   ]
  },
  {
   "cell_type": "code",
   "execution_count": 208,
   "metadata": {},
   "outputs": [],
   "source": [
    "#Divide into k folds.\n",
    "#For each fold, select a different model and find the best hyperparameter \n",
    "# get score, mse, time of estimators. Set cv=0 for estimator\n",
    "def get_models_during_k_folds(X, T, Y, ci_estimator_list, model_y, model_t):\n",
    "    k = 4\n",
    "    cv = KFold(n_splits=k, shuffle=True, random_state=123)\n",
    "\n",
    "    fold_models = {}\n",
    "    i = 0\n",
    "    total_start_time = time.time()\n",
    "    for train_index, test_index in cv.split(X):\n",
    "        X_train, T_train, Y_train = X.iloc[train_index], T.iloc[train_index], Y.iloc[train_index]\n",
    "        X_test, T_test, Y_test = X.iloc[test_index], T.iloc[test_index], Y.iloc[test_index]\n",
    "        # print(current_model_y, type(current_model_y))\n",
    "        causal_model_score = {}\n",
    "        causal_model_mse = {}\n",
    "        causal_model_time = {}\n",
    "        for ci in ci_estimator_list:\n",
    "            #find scores + mse's of all estimators\n",
    "            if ci == 'dr':\n",
    "                current_model_y = utils.select_continuous_estimator(model_y[i])\n",
    "                current_model_t = utils.select_discrete_estimator(model_t[i])\n",
    "            else:\n",
    "                current_model_y, current_model_t = model_y[i], model_t[i]\n",
    "            causal_model = get_estimators(ci, current_model_y, current_model_t)\n",
    "            print(causal_model)\n",
    "            start_time = time.time()\n",
    "            causal_model.fit(Y_train, T_train, X=X_train, W=None)\n",
    "            run_time = time.time() - start_time\n",
    "            te_pred = causal_model.effect(X_test)\n",
    "            causal_model_score[ci] = causal_model.score(Y_test, T_test, X_test)\n",
    "            causal_model_mse[ci] = np.mean((Y_test - te_pred)**2)\n",
    "            causal_model_time[ci] = run_time\n",
    "        fold_models[f'fold {i}'] = {'model_y' : current_model_y, 'model_t' : current_model_t, 'Scores' : causal_model_score, 'Mse' : causal_model_mse, 'Runtime' : causal_model_time}\n",
    "        i += 1\n",
    "\n",
    "    total_run_time = time.time() - total_start_time\n",
    "    return fold_models, total_run_time"
   ]
  },
  {
   "cell_type": "code",
   "execution_count": 209,
   "metadata": {},
   "outputs": [],
   "source": [
    "data, X, T, Y, true_ITE, true_ATE, true_ATE_stderr, is_discrete = utils.load_ihdp()\n",
    "# X, X_val, T, T_val, Y, Y_val = train_test_split(X, T, Y, train_size=0.6,shuffle=True, random_state=123)\n",
    "# X_val, X_test, T_val, T_test, Y_val, Y_test = train_test_split(X_val, T_val, Y_val, train_size=.5, shuffle=True, random_state=123)"
   ]
  },
  {
   "cell_type": "code",
   "execution_count": 210,
   "metadata": {},
   "outputs": [],
   "source": [
    "ci_estimator_list = ['dml', 'kernel_dml', 'dr']\n",
    "model_y = ['linear', 'forest', 'gbf', 'nnet']\n",
    "model_t = ['linear', 'forest', 'gbf', 'nnet']"
   ]
  },
  {
   "cell_type": "code",
   "execution_count": null,
   "metadata": {},
   "outputs": [],
   "source": [
    "fold_models, total_run_time = get_models_during_k_folds(X, T, Y, ci_estimator_list, model_y, model_t)\n",
    "print(fold_models, total_run_time)"
   ]
  },
  {
   "attachments": {},
   "cell_type": "markdown",
   "metadata": {},
   "source": [
    "{'fold 0': {'model_y': ElasticNetCV(), 'model_t': LogisticRegressionCV(), 'Scores': {'dml': 1.7103529828413817, 'kernel_dml': 1.577551579860745, 'dr': 11.359973879492188}, 'Mse': {'dml': 8.011912516177423, 'kernel_dml': 5.155760687808942, 'dr': 7.376126355036506}, 'Runtime': {'dml': 123.22834086418152, 'kernel_dml': 0.3741190433502197, 'dr': 1.1277921199798584}},\n",
    "\n",
    "'fold 1': {'model_y': RandomForestRegressor(), 'model_t': RandomForestClassifier(), 'Scores': {'dml': 2.055036463528363, 'kernel_dml': 1.7453353741116, 'dr': 1209493.4363039904}, 'Mse': {'dml': 10.254619261904727, 'kernel_dml': 5.098802756361791, 'dr': 12.194402571204995}, 'Runtime': {'dml': 10.461857318878174, 'kernel_dml': 1.359987497329712, 'dr': 1.3761255741119385}},\n",
    "\n",
    "'fold 2': {'model_y': GradientBoostingRegressor(), 'model_t': GradientBoostingClassifier(), 'Scores': {'dml': 1.9569946763096768, 'kernel_dml': 1.7221695833959687, 'dr': 44.611287276961534}, 'Mse': {'dml': 8.236809987477494, 'kernel_dml': 4.699993764276994, 'dr': 12.13563589456706}, 'Runtime': {'dml': 3.644969940185547, 'kernel_dml': 0.5272073745727539, 'dr': 0.6685647964477539}},\n",
    "\n",
    "'fold 3': {'model_y': MLPRegressor(), 'model_t': MLPClassifier(), 'Scores': {'dml': 19.139325080508872, 'kernel_dml': 5.032037366032984, 'dr': 38.62779089389492}, 'Mse': {'dml': 7.7025028770708275, 'kernel_dml': 7.951781325018747, 'dr': 32.05839213054398}, 'Runtime': {'dml': 5.253737449645996, 'kernel_dml': 3.1807219982147217, 'dr': 3.172316551208496}}}\n",
    "\n",
    "154.7059407234192\n"
   ]
  },
  {
   "cell_type": "code",
   "execution_count": 272,
   "metadata": {},
   "outputs": [
    {
     "data": {
      "text/plain": [
       "({'dml': [8.011912516177423,\n",
       "   10.254619261904727,\n",
       "   8.236809987477494,\n",
       "   7.7025028770708275],\n",
       "  'kernel_dml': [5.155760687808942,\n",
       "   5.098802756361791,\n",
       "   4.699993764276994,\n",
       "   7.951781325018747],\n",
       "  'dr': [7.376126355036506,\n",
       "   12.194402571204995,\n",
       "   12.13563589456706,\n",
       "   32.05839213054398]},\n",
       " {'dml': 3, 'kernel_dml': 2, 'dr': 0},\n",
       " {'dml': {'best_model_y': MLPRegressor(),\n",
       "   'best_model_t': MLPClassifier(),\n",
       "   'Mse': 7.7025028770708275},\n",
       "  'kernel_dml': {'best_model_y': GradientBoostingRegressor(),\n",
       "   'best_model_t': GradientBoostingClassifier(),\n",
       "   'Mse': 4.699993764276994},\n",
       "  'dr': {'best_model_y': ElasticNetCV(),\n",
       "   'best_model_t': LogisticRegressionCV(),\n",
       "   'Mse': 7.376126355036506}})"
      ]
     },
     "execution_count": 272,
     "metadata": {},
     "output_type": "execute_result"
    }
   ],
   "source": [
    "#Find best fold in terms of MSE and Runtime for each estimator\n",
    "mse_all_estimators = {}\n",
    "runtime_all_estimators = {}\n",
    "for ci in ci_estimator_list:\n",
    "    mse_all_estimators[f'{ci}'] = []\n",
    "    runtime_all_estimators[f'{ci}'] = []\n",
    "for k, value in fold_models.items():\n",
    "    for ci in ci_estimator_list:\n",
    "        mse_all_estimators[f'{ci}'].append(value['Mse'][ci])\n",
    "        runtime_all_estimators[f'{ci}'].append(value['Runtime'][ci])\n",
    "\n",
    "best_mse_fold = {}\n",
    "best_runtime_fold = {}\n",
    "for ci in ci_estimator_list:\n",
    "    best_mse_fold[ci] = np.argmin(mse_all_estimators[f'{ci}'])\n",
    "    best_runtime_fold[ci] = np.argmin(runtime_all_estimators[f'{ci}'])\n",
    "\n",
    "best_models_mse = {}\n",
    "best_models_time = {}\n",
    "for ci in ci_estimator_list:\n",
    "    fold_mse = best_mse_fold[ci]\n",
    "    fold_time = best_runtime_fold[ci]\n",
    "    best_models_mse[ci] = {'best_model_y' : fold_models[f'fold {fold_mse}']['model_y'], 'best_model_t' : fold_models[f'fold {fold_mse}']['model_t'], 'Mse' : fold_models[f'fold {fold_mse}']['Mse'][ci]}\n",
    "    best_models_time[ci] = {'best_model_y' : fold_models[f'fold {fold_time}']['model_y'], 'best_model_t' : fold_models[f'fold {fold_time}']['model_t'], 'Runtime' : fold_models[f'fold {fold_time}']['Runtime'][ci]}\n",
    "\n",
    "mse_all_estimators, best_mse_fold, best_models_mse"
   ]
  },
  {
   "cell_type": "code",
   "execution_count": 273,
   "metadata": {},
   "outputs": [
    {
     "data": {
      "text/plain": [
       "({'dml': [123.22834086418152,\n",
       "   10.461857318878174,\n",
       "   3.644969940185547,\n",
       "   5.253737449645996],\n",
       "  'kernel_dml': [0.3741190433502197,\n",
       "   1.359987497329712,\n",
       "   0.5272073745727539,\n",
       "   3.1807219982147217],\n",
       "  'dr': [1.1277921199798584,\n",
       "   1.3761255741119385,\n",
       "   0.6685647964477539,\n",
       "   3.172316551208496]},\n",
       " {'dml': 2, 'kernel_dml': 0, 'dr': 2},\n",
       " {'dml': {'best_model_y': GradientBoostingRegressor(),\n",
       "   'best_model_t': GradientBoostingClassifier(),\n",
       "   'Runtime': 3.644969940185547},\n",
       "  'kernel_dml': {'best_model_y': ElasticNetCV(),\n",
       "   'best_model_t': LogisticRegressionCV(),\n",
       "   'Runtime': 0.3741190433502197},\n",
       "  'dr': {'best_model_y': GradientBoostingRegressor(),\n",
       "   'best_model_t': GradientBoostingClassifier(),\n",
       "   'Runtime': 0.6685647964477539}})"
      ]
     },
     "execution_count": 273,
     "metadata": {},
     "output_type": "execute_result"
    }
   ],
   "source": [
    "runtime_all_estimators, best_runtime_fold, best_models_time"
   ]
  }
 ],
 "metadata": {
  "kernelspec": {
   "display_name": ".venv",
   "language": "python",
   "name": "python3"
  },
  "language_info": {
   "codemirror_mode": {
    "name": "ipython",
    "version": 3
   },
   "file_extension": ".py",
   "mimetype": "text/x-python",
   "name": "python",
   "nbconvert_exporter": "python",
   "pygments_lexer": "ipython3",
   "version": "3.8.4"
  },
  "orig_nbformat": 4
 },
 "nbformat": 4,
 "nbformat_minor": 2
}
