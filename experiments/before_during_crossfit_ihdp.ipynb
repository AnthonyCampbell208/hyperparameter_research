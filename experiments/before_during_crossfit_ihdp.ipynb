{
 "cells": [
  {
   "cell_type": "code",
   "execution_count": 2,
   "metadata": {},
   "outputs": [],
   "source": [
    "from itertools import product\n",
    "from sklearn.tree import DecisionTreeClassifier, DecisionTreeRegressor\n",
    "from sklearn.svm import SVC, LinearSVC\n",
    "from sklearn.preprocessing import (MaxAbsScaler, MinMaxScaler,\n",
    "                                   PolynomialFeatures, RobustScaler,\n",
    "                                   StandardScaler)\n",
    "from sklearn.pipeline import Pipeline\n",
    "from sklearn.neural_network import MLPClassifier, MLPRegressor\n",
    "from sklearn.model_selection import (BaseCrossValidator, GridSearchCV, KFold,\n",
    "                                     RandomizedSearchCV, StratifiedKFold,\n",
    "                                     check_cv, train_test_split)\n",
    "from sklearn.linear_model import (ARDRegression, BayesianRidge, ElasticNet,\n",
    "                                  ElasticNetCV, Lars, Lasso, LassoLars,\n",
    "                                  LinearRegression, LogisticRegression,\n",
    "                                  LogisticRegressionCV,\n",
    "                                  OrthogonalMatchingPursuit, Ridge)\n",
    "from sklearn.ensemble import (GradientBoostingClassifier,\n",
    "                              GradientBoostingRegressor,\n",
    "                              RandomForestClassifier, RandomForestRegressor)\n",
    "from sklearn.base import BaseEstimator, is_regressor\n",
    "from econml.dr import DRLearner\n",
    "from econml.dml import CausalForestDML, KernelDML, LinearDML, SparseLinearDML\n",
    "import sklearn.preprocessing\n",
    "import sklearn.neural_network\n",
    "import sklearn.linear_model\n",
    "import sklearn.ensemble\n",
    "import sklearn\n",
    "import argparse\n",
    "import logging\n",
    "import os\n",
    "import pdb\n",
    "import numpy as np\n",
    "import pandas as pd\n",
    "import pickle\n",
    "import utils\n",
    "from sklearn.datasets import load_iris\n",
    "from sklearn.metrics import accuracy_score\n",
    "import time\n",
    "import warnings\n",
    "import csv\n",
    "import os\n",
    "import during_crossfit_params"
   ]
  },
  {
   "attachments": {},
   "cell_type": "markdown",
   "metadata": {},
   "source": [
    "During Cross-fitting"
   ]
  },
  {
   "cell_type": "code",
   "execution_count": null,
   "metadata": {},
   "outputs": [],
   "source": [
    "data, X, T, Y, true_ITE, true_ATE, true_ATE_stderr, is_discrete = utils.load_ihdp()\n",
    "# X, X_val, T, T_val, Y, Y_val = train_test_split(X, T, Y, train_size=0.6,shuffle=True, random_state=123)\n",
    "# X_val, X_test, T_val, T_test, Y_val, Y_test = train_test_split(X_val, T_val, Y_val, train_size=.5, shuffle=True, random_state=123)"
   ]
  },
  {
   "cell_type": "code",
   "execution_count": null,
   "metadata": {},
   "outputs": [],
   "source": [
    "ci_estimator_list = ['tl', 'dml', 'kernel_dml', 'CausalForestDML']\n",
    "model_y = ['linear', 'forest', 'gbf', 'nnet']\n",
    "model_t = ['linear', 'forest', 'gbf', 'nnet']"
   ]
  },
  {
   "cell_type": "code",
   "execution_count": null,
   "metadata": {},
   "outputs": [],
   "source": [
    "k = 4\n",
    "fold_models, total_run_time = during_crossfit_params.get_models_during_k_folds(X, T, Y, k, ci_estimator_list, model_y, model_t, model_y_discrete=False, model_t_discrete=True)\n",
    "print(fold_models, total_run_time)"
   ]
  },
  {
   "attachments": {},
   "cell_type": "markdown",
   "metadata": {},
   "source": [
    "{'fold 0': {'model_y': ElasticNetCV(l1_ratio=0.9, max_iter=100), 'model_t': LogisticRegressionCV(Cs=1, max_iter=25), 'Mse': {'tl': 7.522415610112231, 'dml': 6.482037995026961, 'kernel_dml': 5.205798775508355, 'CausalForestDML': 6.003187772347634}, 'Runtime': {'tl': 0.1557145118713379, 'dml': 9.280638694763184, 'kernel_dml': 0.260221004486084, 'CausalForestDML': 0.48456573486328125}}, \n",
    "\n",
    "'fold 1': {'model_y': RandomForestRegressor(max_depth=10, min_samples_split=10, n_estimators=25), 'model_t': RandomForestClassifier(max_depth=5, min_samples_leaf=2, n_estimators=25), 'Mse': {'tl': 8.377986344419789, 'dml': 7.620422451900242, 'kernel_dml': 5.1935256107797425, 'CausalForestDML': 5.747076065870897}, 'Runtime': {'tl': 0.13500022888183594, 'dml': 1.3679900169372559, 'kernel_dml': 0.39501476287841797, 'CausalForestDML': 0.4939577579498291}}, \n",
    "\n",
    "'fold 2': {'model_y': GradientBoostingRegressor(), 'model_t': GradientBoostingClassifier(learning_rate=0.01), 'Mse': {'tl': 8.65248748763551, 'dml': 6.426960624988473, 'kernel_dml': 4.387014823628399, 'CausalForestDML': 5.354179619841489}, 'Runtime': {'tl': 0.14799737930297852, 'dml': 2.4449832439422607, 'kernel_dml': 0.47730207443237305, 'CausalForestDML': 0.5939912796020508}}, \n",
    "\n",
    "'fold 3': {'model_y': MLPRegressor(alpha=0.001, max_iter=25), 'model_t': MLPClassifier(alpha=0.001, learning_rate='adaptive', max_iter=25), 'Mse': {'tl': 14.650894172023754, 'dml': 8.159747525064809, 'kernel_dml': 4.545129616395722, 'CausalForestDML': 6.8417017911365585}, 'Runtime': {'tl': 0.25336551666259766, 'dml': 0.7475666999816895, 'kernel_dml': 0.4789872169494629, 'CausalForestDML': 0.5972983837127686}}} \n",
    "\n",
    "47.82886266708374\n"
   ]
  },
  {
   "cell_type": "code",
   "execution_count": null,
   "metadata": {},
   "outputs": [],
   "source": [
    "mse_all_estimators, best_mse_fold, best_models_mse, runtime_all_estimators, best_runtime_fold, best_models_time = during_crossfit_params.find_best_fold_mse_runtime(fold_models, ci_estimator_list)"
   ]
  },
  {
   "cell_type": "code",
   "execution_count": null,
   "metadata": {},
   "outputs": [
    {
     "data": {
      "text/plain": [
       "({'tl': [7.522415610112231,\n",
       "   8.377986344419789,\n",
       "   8.65248748763551,\n",
       "   14.650894172023754],\n",
       "  'dml': [6.482037995026961,\n",
       "   7.620422451900242,\n",
       "   6.426960624988473,\n",
       "   8.159747525064809],\n",
       "  'kernel_dml': [5.205798775508355,\n",
       "   5.1935256107797425,\n",
       "   4.387014823628399,\n",
       "   4.545129616395722],\n",
       "  'CausalForestDML': [6.003187772347634,\n",
       "   5.747076065870897,\n",
       "   5.354179619841489,\n",
       "   6.8417017911365585]},\n",
       " {'tl': 0, 'dml': 2, 'kernel_dml': 2, 'CausalForestDML': 2},\n",
       " {'tl': {'best_model_y': ElasticNetCV(l1_ratio=0.9, max_iter=100),\n",
       "   'best_model_t': '',\n",
       "   'Mse': 7.522415610112231},\n",
       "  'dml': {'best_model_y': GradientBoostingRegressor(),\n",
       "   'best_model_t': GradientBoostingClassifier(learning_rate=0.01),\n",
       "   'Mse': 6.426960624988473},\n",
       "  'kernel_dml': {'best_model_y': GradientBoostingRegressor(),\n",
       "   'best_model_t': GradientBoostingClassifier(learning_rate=0.01),\n",
       "   'Mse': 4.387014823628399},\n",
       "  'CausalForestDML': {'best_model_y': GradientBoostingRegressor(),\n",
       "   'best_model_t': GradientBoostingClassifier(learning_rate=0.01),\n",
       "   'Mse': 5.354179619841489}})"
      ]
     },
     "execution_count": 10,
     "metadata": {},
     "output_type": "execute_result"
    }
   ],
   "source": [
    "mse_all_estimators, best_mse_fold, best_models_mse"
   ]
  },
  {
   "cell_type": "code",
   "execution_count": null,
   "metadata": {},
   "outputs": [
    {
     "data": {
      "text/plain": [
       "({'tl': [0.1557145118713379,\n",
       "   0.13500022888183594,\n",
       "   0.14799737930297852,\n",
       "   0.25336551666259766],\n",
       "  'dml': [9.280638694763184,\n",
       "   1.3679900169372559,\n",
       "   2.4449832439422607,\n",
       "   0.7475666999816895],\n",
       "  'kernel_dml': [0.260221004486084,\n",
       "   0.39501476287841797,\n",
       "   0.47730207443237305,\n",
       "   0.4789872169494629],\n",
       "  'CausalForestDML': [0.48456573486328125,\n",
       "   0.4939577579498291,\n",
       "   0.5939912796020508,\n",
       "   0.5972983837127686]},\n",
       " {'tl': 1, 'dml': 3, 'kernel_dml': 0, 'CausalForestDML': 0},\n",
       " {'tl': {'best_model_y': RandomForestRegressor(max_depth=10, min_samples_split=10, n_estimators=25),\n",
       "   'best_model_t': '',\n",
       "   'Runtime': 0.13500022888183594},\n",
       "  'dml': {'best_model_y': MLPRegressor(alpha=0.001, max_iter=25),\n",
       "   'best_model_t': MLPClassifier(alpha=0.001, learning_rate='adaptive', max_iter=25),\n",
       "   'Runtime': 0.7475666999816895},\n",
       "  'kernel_dml': {'best_model_y': ElasticNetCV(l1_ratio=0.9, max_iter=100),\n",
       "   'best_model_t': LogisticRegressionCV(Cs=1, max_iter=25),\n",
       "   'Runtime': 0.260221004486084},\n",
       "  'CausalForestDML': {'best_model_y': ElasticNetCV(l1_ratio=0.9, max_iter=100),\n",
       "   'best_model_t': LogisticRegressionCV(Cs=1, max_iter=25),\n",
       "   'Runtime': 0.48456573486328125}})"
      ]
     },
     "execution_count": 11,
     "metadata": {},
     "output_type": "execute_result"
    }
   ],
   "source": [
    "runtime_all_estimators, best_runtime_fold, best_models_time"
   ]
  },
  {
   "cell_type": "code",
   "execution_count": null,
   "metadata": {},
   "outputs": [],
   "source": [
    "key = 'ihdp'\n",
    "results_file = f'../results/{key}_during_crossfit_params.csv'\n",
    "\n",
    "# if not os.path.exists(results_file):\n",
    "#     os.makedirs(results_file)"
   ]
  },
  {
   "cell_type": "code",
   "execution_count": null,
   "metadata": {},
   "outputs": [],
   "source": [
    "# Write MSE and runtime data to CSV file\n",
    "with open(results_file, mode='w', newline='') as csvfile:\n",
    "    csvwriter = csv.writer(csvfile)\n",
    "    csvwriter.writerow(['Estimator', 'Fold', 'model_y', 'model_t', 'MSE', 'Runtime', 'Best first-stage models Mse', 'Best first-stage models Runtime', 'Best Mse', 'Best Runtime'])\n",
    "\n",
    "    for estimator in mse_all_estimators:\n",
    "        for i in range(k):\n",
    "            mse = mse_all_estimators[estimator][i]\n",
    "            runtime = runtime_all_estimators[estimator][i]\n",
    "            csvwriter.writerow([estimator, i, fold_models[f'fold {i}']['model_y'], fold_models[f'fold {i}']['model_t'], mse, runtime, '', '', '', ''])\n",
    "            i += 1\n",
    "\n",
    "        best_mse = best_models_mse[estimator]['Mse']\n",
    "        best_runtime = best_models_time[estimator]['Runtime']\n",
    "\n",
    "        best_mse_models = f\"{best_models_mse[estimator]['best_model_y']}\\n\\n{best_models_mse[estimator]['best_model_t']}\"\n",
    "\n",
    "        best_runtime_models = f\"{best_models_time[estimator]['best_model_y']}\\n\\n{best_models_time[estimator]['best_model_t']}\"\n",
    "\n",
    "        csvwriter.writerow([estimator, f'Best Mse, Runtime Fold - {best_mse_fold[estimator]}, {best_runtime_fold[estimator]}', '', '', '', '', best_mse_models, best_runtime_models, best_mse, best_runtime])"
   ]
  },
  {
   "attachments": {},
   "cell_type": "markdown",
   "metadata": {},
   "source": [
    "After refactoring"
   ]
  },
  {
   "cell_type": "code",
   "execution_count": 3,
   "metadata": {},
   "outputs": [],
   "source": [
    "ci_estimator_list = ['tl', 'dml', 'kernel_dml', 'CausalForestDML']\n",
    "model_y = ['linear', 'forest', 'gbf', 'nnet']\n",
    "model_t = ['linear', 'forest', 'gbf', 'nnet']\n",
    "\n",
    "key = 'ihdp'\n",
    "during_crossfit_params.main(ci_estimator_list, model_y, model_t, key, k=4)"
   ]
  },
  {
   "cell_type": "code",
   "execution_count": null,
   "metadata": {},
   "outputs": [],
   "source": []
  }
 ],
 "metadata": {
  "kernelspec": {
   "display_name": ".venv",
   "language": "python",
   "name": "python3"
  },
  "language_info": {
   "codemirror_mode": {
    "name": "ipython",
    "version": 3
   },
   "file_extension": ".py",
   "mimetype": "text/x-python",
   "name": "python",
   "nbconvert_exporter": "python",
   "pygments_lexer": "ipython3",
   "version": "3.8.4"
  },
  "orig_nbformat": 4
 },
 "nbformat": 4,
 "nbformat_minor": 2
}
